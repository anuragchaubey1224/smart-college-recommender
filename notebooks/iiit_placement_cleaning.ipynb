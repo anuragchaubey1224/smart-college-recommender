{
 "cells": [
  {
   "cell_type": "markdown",
   "id": "74618903",
   "metadata": {},
   "source": [
    "# data preprocessing for iiit placement csv"
   ]
  },
  {
   "cell_type": "code",
   "execution_count": 151,
   "id": "6dcb2a52",
   "metadata": {},
   "outputs": [],
   "source": [
    "import numpy as np\n",
    "import pandas as pd"
   ]
  },
  {
   "cell_type": "code",
   "execution_count": 152,
   "id": "e8dc41b0",
   "metadata": {},
   "outputs": [
    {
     "data": {
      "text/html": [
       "<div>\n",
       "<style scoped>\n",
       "    .dataframe tbody tr th:only-of-type {\n",
       "        vertical-align: middle;\n",
       "    }\n",
       "\n",
       "    .dataframe tbody tr th {\n",
       "        vertical-align: top;\n",
       "    }\n",
       "\n",
       "    .dataframe thead th {\n",
       "        text-align: right;\n",
       "    }\n",
       "</style>\n",
       "<table border=\"1\" class=\"dataframe\">\n",
       "  <thead>\n",
       "    <tr style=\"text-align: right;\">\n",
       "      <th></th>\n",
       "      <th>Year</th>\n",
       "      <th>IIIT Name</th>\n",
       "      <th>Overall Avg (LPA)</th>\n",
       "      <th>CSE Avg (LPA)</th>\n",
       "      <th>ECE Avg (LPA)</th>\n",
       "    </tr>\n",
       "  </thead>\n",
       "  <tbody>\n",
       "    <tr>\n",
       "      <th>86</th>\n",
       "      <td>NaN</td>\n",
       "      <td>NaN</td>\n",
       "      <td>NaN</td>\n",
       "      <td>NaN</td>\n",
       "      <td>NaN</td>\n",
       "    </tr>\n",
       "    <tr>\n",
       "      <th>121</th>\n",
       "      <td>2024.0</td>\n",
       "      <td>IIIT Kurnool</td>\n",
       "      <td>8.20</td>\n",
       "      <td>8.20</td>\n",
       "      <td>8.20</td>\n",
       "    </tr>\n",
       "    <tr>\n",
       "      <th>70</th>\n",
       "      <td>2022.0</td>\n",
       "      <td>IIIT Dharwad</td>\n",
       "      <td>8.00</td>\n",
       "      <td>8.70</td>\n",
       "      <td>8.00</td>\n",
       "    </tr>\n",
       "    <tr>\n",
       "      <th>48</th>\n",
       "      <td>2021.0</td>\n",
       "      <td>IIIT Bhagalpur</td>\n",
       "      <td>10.35</td>\n",
       "      <td>10.35</td>\n",
       "      <td>10.35</td>\n",
       "    </tr>\n",
       "    <tr>\n",
       "      <th>111</th>\n",
       "      <td>2023.0</td>\n",
       "      <td>IIIT Bangalore</td>\n",
       "      <td>29.60</td>\n",
       "      <td>35.00</td>\n",
       "      <td>25.55</td>\n",
       "    </tr>\n",
       "  </tbody>\n",
       "</table>\n",
       "</div>"
      ],
      "text/plain": [
       "       Year       IIIT Name  Overall Avg (LPA)  CSE Avg (LPA)  ECE Avg (LPA)\n",
       "86      NaN             NaN                NaN            NaN            NaN\n",
       "121  2024.0    IIIT Kurnool               8.20           8.20           8.20\n",
       "70   2022.0    IIIT Dharwad               8.00           8.70           8.00\n",
       "48   2021.0  IIIT Bhagalpur              10.35          10.35          10.35\n",
       "111  2023.0  IIIT Bangalore              29.60          35.00          25.55"
      ]
     },
     "execution_count": 152,
     "metadata": {},
     "output_type": "execute_result"
    }
   ],
   "source": [
    "df_iiit = pd.read_csv(\"/Users/anuragchaubey/smart-college-recommender/data/iiit_placement.csv\")\n",
    "df_iiit.sample(5)"
   ]
  },
  {
   "cell_type": "code",
   "execution_count": 153,
   "id": "a1709cf3",
   "metadata": {},
   "outputs": [],
   "source": [
    "# drop empty rows\n",
    "df_iiit.dropna(how='all', inplace=True)\n"
   ]
  },
  {
   "cell_type": "code",
   "execution_count": 154,
   "id": "9804a82c",
   "metadata": {},
   "outputs": [],
   "source": [
    "# rename columns \n",
    "df_iiit.columns = ['year', 'institute_name', 'overall_avg_ctc', 'cse_avg_ctc', 'ece_avg_ctc']"
   ]
  },
  {
   "cell_type": "code",
   "execution_count": 155,
   "id": "91a392b6",
   "metadata": {},
   "outputs": [
    {
     "data": {
      "text/html": [
       "<div>\n",
       "<style scoped>\n",
       "    .dataframe tbody tr th:only-of-type {\n",
       "        vertical-align: middle;\n",
       "    }\n",
       "\n",
       "    .dataframe tbody tr th {\n",
       "        vertical-align: top;\n",
       "    }\n",
       "\n",
       "    .dataframe thead th {\n",
       "        text-align: right;\n",
       "    }\n",
       "</style>\n",
       "<table border=\"1\" class=\"dataframe\">\n",
       "  <thead>\n",
       "    <tr style=\"text-align: right;\">\n",
       "      <th></th>\n",
       "      <th>year</th>\n",
       "      <th>institute_name</th>\n",
       "      <th>overall_avg_ctc</th>\n",
       "      <th>cse_avg_ctc</th>\n",
       "      <th>ece_avg_ctc</th>\n",
       "    </tr>\n",
       "  </thead>\n",
       "  <tbody>\n",
       "    <tr>\n",
       "      <th>0</th>\n",
       "      <td>2020.0</td>\n",
       "      <td>IIIT Allahabad</td>\n",
       "      <td>20.83</td>\n",
       "      <td>20.83</td>\n",
       "      <td>16.00</td>\n",
       "    </tr>\n",
       "    <tr>\n",
       "      <th>1</th>\n",
       "      <td>2020.0</td>\n",
       "      <td>ABV-IIITM Gwalior</td>\n",
       "      <td>16.85</td>\n",
       "      <td>27.23</td>\n",
       "      <td>16.00</td>\n",
       "    </tr>\n",
       "    <tr>\n",
       "      <th>2</th>\n",
       "      <td>2020.0</td>\n",
       "      <td>IIITDM Jabalpur</td>\n",
       "      <td>6.42</td>\n",
       "      <td>8.50</td>\n",
       "      <td>21.49</td>\n",
       "    </tr>\n",
       "    <tr>\n",
       "      <th>3</th>\n",
       "      <td>2020.0</td>\n",
       "      <td>IIITDM Kancheepuram</td>\n",
       "      <td>9.80</td>\n",
       "      <td>9.60</td>\n",
       "      <td>11.09</td>\n",
       "    </tr>\n",
       "    <tr>\n",
       "      <th>4</th>\n",
       "      <td>2020.0</td>\n",
       "      <td>IIIT Kurnool</td>\n",
       "      <td>7.64</td>\n",
       "      <td>7.64</td>\n",
       "      <td>8.30</td>\n",
       "    </tr>\n",
       "  </tbody>\n",
       "</table>\n",
       "</div>"
      ],
      "text/plain": [
       "     year       institute_name  overall_avg_ctc  cse_avg_ctc  ece_avg_ctc\n",
       "0  2020.0       IIIT Allahabad            20.83        20.83        16.00\n",
       "1  2020.0    ABV-IIITM Gwalior            16.85        27.23        16.00\n",
       "2  2020.0      IIITDM Jabalpur             6.42         8.50        21.49\n",
       "3  2020.0  IIITDM Kancheepuram             9.80         9.60        11.09\n",
       "4  2020.0         IIIT Kurnool             7.64         7.64         8.30"
      ]
     },
     "execution_count": 155,
     "metadata": {},
     "output_type": "execute_result"
    }
   ],
   "source": [
    "df_iiit.head()"
   ]
  },
  {
   "cell_type": "code",
   "execution_count": 156,
   "id": "9cd92650",
   "metadata": {},
   "outputs": [],
   "source": [
    "# remove duplicates (if any)\n",
    "df_iiit.drop_duplicates(inplace=True)"
   ]
  },
  {
   "cell_type": "code",
   "execution_count": 157,
   "id": "6c5b19f0",
   "metadata": {},
   "outputs": [
    {
     "name": "stdout",
     "output_type": "stream",
     "text": [
      "<class 'pandas.core.frame.DataFrame'>\n",
      "Index: 140 entries, 0 to 144\n",
      "Data columns (total 5 columns):\n",
      " #   Column           Non-Null Count  Dtype  \n",
      "---  ------           --------------  -----  \n",
      " 0   year             140 non-null    float64\n",
      " 1   institute_name   140 non-null    object \n",
      " 2   overall_avg_ctc  136 non-null    float64\n",
      " 3   cse_avg_ctc      124 non-null    float64\n",
      " 4   ece_avg_ctc      132 non-null    float64\n",
      "dtypes: float64(4), object(1)\n",
      "memory usage: 6.6+ KB\n"
     ]
    }
   ],
   "source": [
    "df_iiit.info()"
   ]
  },
  {
   "cell_type": "code",
   "execution_count": 158,
   "id": "93c2d05d",
   "metadata": {},
   "outputs": [],
   "source": [
    "# convert column data types \n",
    "df_iiit['year'] = df_iiit['year'].astype(int)\n",
    "# remove whitespaces from institute names\n",
    "df_iiit['institute_name'] = df_iiit['institute_name'].str.strip()"
   ]
  },
  {
   "cell_type": "code",
   "execution_count": 159,
   "id": "8a15fc33",
   "metadata": {},
   "outputs": [
    {
     "data": {
      "text/plain": [
       "year                0\n",
       "institute_name      0\n",
       "overall_avg_ctc     4\n",
       "cse_avg_ctc        16\n",
       "ece_avg_ctc         8\n",
       "dtype: int64"
      ]
     },
     "execution_count": 159,
     "metadata": {},
     "output_type": "execute_result"
    }
   ],
   "source": [
    "# check missing values\n",
    "df_iiit.isnull().sum()"
   ]
  },
  {
   "cell_type": "markdown",
   "id": "5638cdb4",
   "metadata": {},
   "source": [
    "## filling overall_avgg_ctc missing values"
   ]
  },
  {
   "cell_type": "code",
   "execution_count": 160,
   "id": "09ff7a8c",
   "metadata": {},
   "outputs": [],
   "source": [
    "# if cse and ece placements are available\n",
    "mask = df_iiit['overall_avg_ctc'].isnull() & df_iiit['cse_avg_ctc'].notnull() & df_iiit['ece_avg_ctc'].notnull()\n",
    "df_iiit.loc[mask, 'overall_avg_ctc'] = (df_iiit.loc[mask, 'cse_avg_ctc'] + df_iiit.loc[mask, 'ece_avg_ctc']) / 2"
   ]
  },
  {
   "cell_type": "code",
   "execution_count": 161,
   "id": "6f3c60cb",
   "metadata": {},
   "outputs": [],
   "source": [
    "# if ece placement is missing\n",
    "mask_cse = df_iiit['overall_avg_ctc'].isnull() & df_iiit['cse_avg_ctc'].notnull()\n",
    "df_iiit.loc[mask_cse, 'overall_avg_ctc'] = df_iiit.loc[mask_cse, 'cse_avg_ctc']"
   ]
  },
  {
   "cell_type": "code",
   "execution_count": 162,
   "id": "aa1a290a",
   "metadata": {},
   "outputs": [],
   "source": [
    "# if cse data is missing\n",
    "mask_ece = df_iiit['overall_avg_ctc'].isnull() & df_iiit['ece_avg_ctc'].notnull()\n",
    "df_iiit.loc[mask_ece, 'overall_avg_ctc'] = df_iiit.loc[mask_ece, 'ece_avg_ctc']"
   ]
  },
  {
   "cell_type": "code",
   "execution_count": 163,
   "id": "56e380de",
   "metadata": {},
   "outputs": [
    {
     "data": {
      "text/plain": [
       "year                0\n",
       "institute_name      0\n",
       "overall_avg_ctc     0\n",
       "cse_avg_ctc        16\n",
       "ece_avg_ctc         8\n",
       "dtype: int64"
      ]
     },
     "execution_count": 163,
     "metadata": {},
     "output_type": "execute_result"
    }
   ],
   "source": [
    "df_iiit.isnull().sum()"
   ]
  },
  {
   "cell_type": "markdown",
   "id": "fa72c2e9",
   "metadata": {},
   "source": [
    "## filling cse_avg ctc column missing values"
   ]
  },
  {
   "cell_type": "code",
   "execution_count": 164,
   "id": "597095df",
   "metadata": {},
   "outputs": [],
   "source": [
    "# # filling with their previous year records\n",
    "df_iiit['cse_avg_ctc'] = df_iiit.groupby('institute_name')['cse_avg_ctc'].transform(\n",
    "    lambda x: x.fillna(x.median())\n",
    " )\n"
   ]
  },
  {
   "cell_type": "code",
   "execution_count": 165,
   "id": "3e556553",
   "metadata": {},
   "outputs": [],
   "source": [
    "# filling missing values with overall average\n",
    "mask = df_iiit['cse_avg_ctc'].isnull() & df_iiit['overall_avg_ctc'].notnull()\n",
    "df_iiit.loc[mask, 'cse_avg_ctc'] = df_iiit.loc[mask, 'overall_avg_ctc']"
   ]
  },
  {
   "cell_type": "code",
   "execution_count": 166,
   "id": "ff7eec99",
   "metadata": {},
   "outputs": [
    {
     "data": {
      "text/plain": [
       "year               0\n",
       "institute_name     0\n",
       "overall_avg_ctc    0\n",
       "cse_avg_ctc        0\n",
       "ece_avg_ctc        8\n",
       "dtype: int64"
      ]
     },
     "execution_count": 166,
     "metadata": {},
     "output_type": "execute_result"
    }
   ],
   "source": [
    "df_iiit.isnull().sum()"
   ]
  },
  {
   "cell_type": "markdown",
   "id": "8a4d294f",
   "metadata": {},
   "source": [
    "## filling ece_avg-ctc missing values"
   ]
  },
  {
   "cell_type": "code",
   "execution_count": 167,
   "id": "97cc20eb",
   "metadata": {},
   "outputs": [],
   "source": [
    "# filling with previous year ece_data of same college (if available)\n",
    "df_iiit['ece_avg_ctc'] = df_iiit.groupby('institute_name')['ece_avg_ctc'].transform(\n",
    "    lambda x: x.fillna(x.median())\n",
    ")"
   ]
  },
  {
   "cell_type": "code",
   "execution_count": 168,
   "id": "cd64a99a",
   "metadata": {},
   "outputs": [],
   "source": [
    "# if still missing values left fill with overall average\n",
    "mask = df_iiit['ece_avg_ctc'].isnull() & df_iiit['overall_avg_ctc'].notnull()\n",
    "df_iiit.loc[mask, 'ece_avg_ctc'] = df_iiit.loc[mask, 'overall_avg_ctc']"
   ]
  },
  {
   "cell_type": "code",
   "execution_count": 169,
   "id": "a9abfa36",
   "metadata": {},
   "outputs": [
    {
     "data": {
      "text/plain": [
       "year               0\n",
       "institute_name     0\n",
       "overall_avg_ctc    0\n",
       "cse_avg_ctc        0\n",
       "ece_avg_ctc        0\n",
       "dtype: int64"
      ]
     },
     "execution_count": 169,
     "metadata": {},
     "output_type": "execute_result"
    }
   ],
   "source": [
    "df_iiit.isnull().sum()"
   ]
  },
  {
   "cell_type": "code",
   "execution_count": null,
   "id": "b0ef89af",
   "metadata": {},
   "outputs": [],
   "source": [
    "#  add institute type column\n",
    "df_iiit['institute_type'] = 'IIIT'"
   ]
  },
  {
   "cell_type": "code",
   "execution_count": 171,
   "id": "7cfd4b12",
   "metadata": {},
   "outputs": [],
   "source": [
    "# add new column to track the gap between cse vs ece\n",
    "df_iiit['cse_vs_ece_gap'] = df_iiit['cse_avg_ctc'] - df_iiit['ece_avg_ctc']"
   ]
  },
  {
   "cell_type": "code",
   "execution_count": null,
   "id": "17422a9a",
   "metadata": {},
   "outputs": [],
   "source": [
    "#  sort the data on the basis of year and institute name\n",
    "df_iiit = df_iiit.sort_values(by=[\"year\", \"institute_name\"]).reset_index(drop=True)"
   ]
  },
  {
   "cell_type": "code",
   "execution_count": 173,
   "id": "78ee8934",
   "metadata": {},
   "outputs": [
    {
     "name": "stdout",
     "output_type": "stream",
     "text": [
      "<class 'pandas.core.frame.DataFrame'>\n",
      "RangeIndex: 140 entries, 0 to 139\n",
      "Data columns (total 7 columns):\n",
      " #   Column           Non-Null Count  Dtype  \n",
      "---  ------           --------------  -----  \n",
      " 0   year             140 non-null    int64  \n",
      " 1   institute_name   140 non-null    object \n",
      " 2   overall_avg_ctc  140 non-null    float64\n",
      " 3   cse_avg_ctc      140 non-null    float64\n",
      " 4   ece_avg_ctc      140 non-null    float64\n",
      " 5   institute_type   140 non-null    object \n",
      " 6   cse_vs_ece_gap   140 non-null    float64\n",
      "dtypes: float64(4), int64(1), object(2)\n",
      "memory usage: 7.8+ KB\n"
     ]
    }
   ],
   "source": [
    "df_iiit.info()"
   ]
  },
  {
   "cell_type": "code",
   "execution_count": 174,
   "id": "708f4984",
   "metadata": {},
   "outputs": [
    {
     "data": {
      "text/html": [
       "<div>\n",
       "<style scoped>\n",
       "    .dataframe tbody tr th:only-of-type {\n",
       "        vertical-align: middle;\n",
       "    }\n",
       "\n",
       "    .dataframe tbody tr th {\n",
       "        vertical-align: top;\n",
       "    }\n",
       "\n",
       "    .dataframe thead th {\n",
       "        text-align: right;\n",
       "    }\n",
       "</style>\n",
       "<table border=\"1\" class=\"dataframe\">\n",
       "  <thead>\n",
       "    <tr style=\"text-align: right;\">\n",
       "      <th></th>\n",
       "      <th>year</th>\n",
       "      <th>overall_avg_ctc</th>\n",
       "      <th>cse_avg_ctc</th>\n",
       "      <th>ece_avg_ctc</th>\n",
       "      <th>cse_vs_ece_gap</th>\n",
       "    </tr>\n",
       "  </thead>\n",
       "  <tbody>\n",
       "    <tr>\n",
       "      <th>count</th>\n",
       "      <td>140.000000</td>\n",
       "      <td>140.000000</td>\n",
       "      <td>140.000000</td>\n",
       "      <td>140.000000</td>\n",
       "      <td>140.000000</td>\n",
       "    </tr>\n",
       "    <tr>\n",
       "      <th>mean</th>\n",
       "      <td>2022.000000</td>\n",
       "      <td>14.844143</td>\n",
       "      <td>15.520500</td>\n",
       "      <td>14.418750</td>\n",
       "      <td>1.101750</td>\n",
       "    </tr>\n",
       "    <tr>\n",
       "      <th>std</th>\n",
       "      <td>1.419292</td>\n",
       "      <td>6.293603</td>\n",
       "      <td>6.834817</td>\n",
       "      <td>5.867378</td>\n",
       "      <td>4.506705</td>\n",
       "    </tr>\n",
       "    <tr>\n",
       "      <th>min</th>\n",
       "      <td>2020.000000</td>\n",
       "      <td>6.420000</td>\n",
       "      <td>6.200000</td>\n",
       "      <td>6.260000</td>\n",
       "      <td>-12.990000</td>\n",
       "    </tr>\n",
       "    <tr>\n",
       "      <th>25%</th>\n",
       "      <td>2021.000000</td>\n",
       "      <td>10.182500</td>\n",
       "      <td>10.782500</td>\n",
       "      <td>10.350000</td>\n",
       "      <td>-0.532500</td>\n",
       "    </tr>\n",
       "    <tr>\n",
       "      <th>50%</th>\n",
       "      <td>2022.000000</td>\n",
       "      <td>13.100000</td>\n",
       "      <td>13.395000</td>\n",
       "      <td>12.780000</td>\n",
       "      <td>0.475000</td>\n",
       "    </tr>\n",
       "    <tr>\n",
       "      <th>75%</th>\n",
       "      <td>2023.000000</td>\n",
       "      <td>18.105000</td>\n",
       "      <td>18.717500</td>\n",
       "      <td>17.010000</td>\n",
       "      <td>3.697500</td>\n",
       "    </tr>\n",
       "    <tr>\n",
       "      <th>max</th>\n",
       "      <td>2024.000000</td>\n",
       "      <td>34.500000</td>\n",
       "      <td>35.000000</td>\n",
       "      <td>36.200000</td>\n",
       "      <td>15.300000</td>\n",
       "    </tr>\n",
       "  </tbody>\n",
       "</table>\n",
       "</div>"
      ],
      "text/plain": [
       "              year  overall_avg_ctc  cse_avg_ctc  ece_avg_ctc  cse_vs_ece_gap\n",
       "count   140.000000       140.000000   140.000000   140.000000      140.000000\n",
       "mean   2022.000000        14.844143    15.520500    14.418750        1.101750\n",
       "std       1.419292         6.293603     6.834817     5.867378        4.506705\n",
       "min    2020.000000         6.420000     6.200000     6.260000      -12.990000\n",
       "25%    2021.000000        10.182500    10.782500    10.350000       -0.532500\n",
       "50%    2022.000000        13.100000    13.395000    12.780000        0.475000\n",
       "75%    2023.000000        18.105000    18.717500    17.010000        3.697500\n",
       "max    2024.000000        34.500000    35.000000    36.200000       15.300000"
      ]
     },
     "execution_count": 174,
     "metadata": {},
     "output_type": "execute_result"
    }
   ],
   "source": [
    "df_iiit.describe()"
   ]
  },
  {
   "cell_type": "code",
   "execution_count": 175,
   "id": "3fc40b7a",
   "metadata": {},
   "outputs": [
    {
     "data": {
      "text/plain": [
       "year               0\n",
       "institute_name     0\n",
       "overall_avg_ctc    0\n",
       "cse_avg_ctc        0\n",
       "ece_avg_ctc        0\n",
       "institute_type     0\n",
       "cse_vs_ece_gap     0\n",
       "dtype: int64"
      ]
     },
     "execution_count": 175,
     "metadata": {},
     "output_type": "execute_result"
    }
   ],
   "source": [
    "df_iiit.isnull().sum()"
   ]
  },
  {
   "cell_type": "code",
   "execution_count": null,
   "id": "ce3c50b5",
   "metadata": {},
   "outputs": [],
   "source": [
    "df_iiit.to_csv(\"/Users/anuragchaubey/smart-college-recommender/data/cleaned/iiit_placement_cleaned.csv\", index=False)"
   ]
  }
 ],
 "metadata": {
  "kernelspec": {
   "display_name": "Python 3",
   "language": "python",
   "name": "python3"
  },
  "language_info": {
   "codemirror_mode": {
    "name": "ipython",
    "version": 3
   },
   "file_extension": ".py",
   "mimetype": "text/x-python",
   "name": "python",
   "nbconvert_exporter": "python",
   "pygments_lexer": "ipython3",
   "version": "3.12.5"
  }
 },
 "nbformat": 4,
 "nbformat_minor": 5
}
