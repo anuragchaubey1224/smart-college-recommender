{
 "cells": [
  {
   "cell_type": "markdown",
   "id": "a901123f",
   "metadata": {},
   "source": [
    "# merge placement and meta data in one common csv"
   ]
  },
  {
   "cell_type": "code",
   "execution_count": 47,
   "id": "e0f4eb47",
   "metadata": {},
   "outputs": [],
   "source": [
    "import numpy as np\n",
    "import pandas as pd\n",
    "import matplotlib.pyplot as plt\n",
    "import seaborn as sns"
   ]
  },
  {
   "cell_type": "code",
   "execution_count": 48,
   "id": "b6a0df90",
   "metadata": {},
   "outputs": [],
   "source": [
    "df_iit = pd.read_csv(\"/Users/anuragchaubey/smart-college-recommender/data/cleaned/iit_placement_cleaned.csv\")\n",
    "df_iiit = pd.read_csv(\"/Users/anuragchaubey/smart-college-recommender/data/cleaned/iiit_placement_cleaned.csv\")\n",
    "df_nit = pd.read_csv(\"/Users/anuragchaubey/smart-college-recommender/data/cleaned/nit_placement_cleaned.csv\")"
   ]
  },
  {
   "cell_type": "code",
   "execution_count": 49,
   "id": "85b4e39e",
   "metadata": {},
   "outputs": [
    {
     "data": {
      "text/html": [
       "<div>\n",
       "<style scoped>\n",
       "    .dataframe tbody tr th:only-of-type {\n",
       "        vertical-align: middle;\n",
       "    }\n",
       "\n",
       "    .dataframe tbody tr th {\n",
       "        vertical-align: top;\n",
       "    }\n",
       "\n",
       "    .dataframe thead th {\n",
       "        text-align: right;\n",
       "    }\n",
       "</style>\n",
       "<table border=\"1\" class=\"dataframe\">\n",
       "  <thead>\n",
       "    <tr style=\"text-align: right;\">\n",
       "      <th></th>\n",
       "      <th>year</th>\n",
       "      <th>institute_name</th>\n",
       "      <th>overall_avg_ctc</th>\n",
       "      <th>cse_avg_ctc</th>\n",
       "      <th>ece_avg_ctc</th>\n",
       "      <th>institute_type</th>\n",
       "      <th>cse_vs_ece_gap</th>\n",
       "    </tr>\n",
       "  </thead>\n",
       "  <tbody>\n",
       "    <tr>\n",
       "      <th>0</th>\n",
       "      <td>2020</td>\n",
       "      <td>ABV-IIITM Gwalior</td>\n",
       "      <td>16.85</td>\n",
       "      <td>27.23</td>\n",
       "      <td>16.00</td>\n",
       "      <td>IIIT</td>\n",
       "      <td>11.23</td>\n",
       "    </tr>\n",
       "    <tr>\n",
       "      <th>1</th>\n",
       "      <td>2020</td>\n",
       "      <td>IIIT Agartala</td>\n",
       "      <td>22.00</td>\n",
       "      <td>19.50</td>\n",
       "      <td>13.83</td>\n",
       "      <td>IIIT</td>\n",
       "      <td>5.67</td>\n",
       "    </tr>\n",
       "    <tr>\n",
       "      <th>2</th>\n",
       "      <td>2020</td>\n",
       "      <td>IIIT Allahabad</td>\n",
       "      <td>20.83</td>\n",
       "      <td>20.83</td>\n",
       "      <td>16.00</td>\n",
       "      <td>IIIT</td>\n",
       "      <td>4.83</td>\n",
       "    </tr>\n",
       "  </tbody>\n",
       "</table>\n",
       "</div>"
      ],
      "text/plain": [
       "   year     institute_name  overall_avg_ctc  cse_avg_ctc  ece_avg_ctc  \\\n",
       "0  2020  ABV-IIITM Gwalior            16.85        27.23        16.00   \n",
       "1  2020      IIIT Agartala            22.00        19.50        13.83   \n",
       "2  2020     IIIT Allahabad            20.83        20.83        16.00   \n",
       "\n",
       "  institute_type  cse_vs_ece_gap  \n",
       "0           IIIT           11.23  \n",
       "1           IIIT            5.67  \n",
       "2           IIIT            4.83  "
      ]
     },
     "execution_count": 49,
     "metadata": {},
     "output_type": "execute_result"
    }
   ],
   "source": [
    "df_iiit.head(3)"
   ]
  },
  {
   "cell_type": "code",
   "execution_count": 50,
   "id": "bbb00a69",
   "metadata": {},
   "outputs": [
    {
     "data": {
      "text/html": [
       "<div>\n",
       "<style scoped>\n",
       "    .dataframe tbody tr th:only-of-type {\n",
       "        vertical-align: middle;\n",
       "    }\n",
       "\n",
       "    .dataframe tbody tr th {\n",
       "        vertical-align: top;\n",
       "    }\n",
       "\n",
       "    .dataframe thead th {\n",
       "        text-align: right;\n",
       "    }\n",
       "</style>\n",
       "<table border=\"1\" class=\"dataframe\">\n",
       "  <thead>\n",
       "    <tr style=\"text-align: right;\">\n",
       "      <th></th>\n",
       "      <th>year</th>\n",
       "      <th>institute_name</th>\n",
       "      <th>overall_avg_ctc</th>\n",
       "      <th>cse_avg_ctc</th>\n",
       "      <th>ece_avg_ctc</th>\n",
       "      <th>ee_avg_ctc</th>\n",
       "      <th>me_avg_ctc</th>\n",
       "    </tr>\n",
       "  </thead>\n",
       "  <tbody>\n",
       "    <tr>\n",
       "      <th>0</th>\n",
       "      <td>2020</td>\n",
       "      <td>IIT Bhilai</td>\n",
       "      <td>11.30</td>\n",
       "      <td>11.82</td>\n",
       "      <td>12.00</td>\n",
       "      <td>11.21</td>\n",
       "      <td>7.51</td>\n",
       "    </tr>\n",
       "    <tr>\n",
       "      <th>1</th>\n",
       "      <td>2020</td>\n",
       "      <td>IIT Bhubaneswar</td>\n",
       "      <td>15.80</td>\n",
       "      <td>22.60</td>\n",
       "      <td>15.80</td>\n",
       "      <td>15.80</td>\n",
       "      <td>12.00</td>\n",
       "    </tr>\n",
       "    <tr>\n",
       "      <th>2</th>\n",
       "      <td>2020</td>\n",
       "      <td>IIT Bombay</td>\n",
       "      <td>20.08</td>\n",
       "      <td>20.08</td>\n",
       "      <td>17.91</td>\n",
       "      <td>20.08</td>\n",
       "      <td>20.65</td>\n",
       "    </tr>\n",
       "  </tbody>\n",
       "</table>\n",
       "</div>"
      ],
      "text/plain": [
       "   year   institute_name  overall_avg_ctc  cse_avg_ctc  ece_avg_ctc  \\\n",
       "0  2020       IIT Bhilai            11.30        11.82        12.00   \n",
       "1  2020  IIT Bhubaneswar            15.80        22.60        15.80   \n",
       "2  2020       IIT Bombay            20.08        20.08        17.91   \n",
       "\n",
       "   ee_avg_ctc  me_avg_ctc  \n",
       "0       11.21        7.51  \n",
       "1       15.80       12.00  \n",
       "2       20.08       20.65  "
      ]
     },
     "execution_count": 50,
     "metadata": {},
     "output_type": "execute_result"
    }
   ],
   "source": [
    "df_iit.head(3)"
   ]
  },
  {
   "cell_type": "code",
   "execution_count": 51,
   "id": "3de7b392",
   "metadata": {},
   "outputs": [
    {
     "data": {
      "text/html": [
       "<div>\n",
       "<style scoped>\n",
       "    .dataframe tbody tr th:only-of-type {\n",
       "        vertical-align: middle;\n",
       "    }\n",
       "\n",
       "    .dataframe tbody tr th {\n",
       "        vertical-align: top;\n",
       "    }\n",
       "\n",
       "    .dataframe thead th {\n",
       "        text-align: right;\n",
       "    }\n",
       "</style>\n",
       "<table border=\"1\" class=\"dataframe\">\n",
       "  <thead>\n",
       "    <tr style=\"text-align: right;\">\n",
       "      <th></th>\n",
       "      <th>year</th>\n",
       "      <th>institute_name</th>\n",
       "      <th>overall_avg_ctc</th>\n",
       "      <th>cse_avg_ctc</th>\n",
       "      <th>ece_avg_ctc</th>\n",
       "      <th>ee_avg_ctc</th>\n",
       "      <th>me_avg_ctc</th>\n",
       "      <th>chemical_avg_ctc</th>\n",
       "      <th>civil_avg_ctc</th>\n",
       "    </tr>\n",
       "  </thead>\n",
       "  <tbody>\n",
       "    <tr>\n",
       "      <th>0</th>\n",
       "      <td>2020</td>\n",
       "      <td>IIEST Shibpur</td>\n",
       "      <td>7.30</td>\n",
       "      <td>9.50</td>\n",
       "      <td>16.5</td>\n",
       "      <td>8.00</td>\n",
       "      <td>7.30</td>\n",
       "      <td>6.417747</td>\n",
       "      <td>5.75</td>\n",
       "    </tr>\n",
       "    <tr>\n",
       "      <th>1</th>\n",
       "      <td>2020</td>\n",
       "      <td>MNIT Jaipur</td>\n",
       "      <td>9.10</td>\n",
       "      <td>18.39</td>\n",
       "      <td>9.1</td>\n",
       "      <td>9.94</td>\n",
       "      <td>13.20</td>\n",
       "      <td>10.350000</td>\n",
       "      <td>6.00</td>\n",
       "    </tr>\n",
       "    <tr>\n",
       "      <th>2</th>\n",
       "      <td>2020</td>\n",
       "      <td>MNNIT Allahabad</td>\n",
       "      <td>17.19</td>\n",
       "      <td>17.68</td>\n",
       "      <td>11.0</td>\n",
       "      <td>17.68</td>\n",
       "      <td>17.68</td>\n",
       "      <td>9.000000</td>\n",
       "      <td>6.54</td>\n",
       "    </tr>\n",
       "  </tbody>\n",
       "</table>\n",
       "</div>"
      ],
      "text/plain": [
       "   year   institute_name  overall_avg_ctc  cse_avg_ctc  ece_avg_ctc  \\\n",
       "0  2020    IIEST Shibpur             7.30         9.50         16.5   \n",
       "1  2020      MNIT Jaipur             9.10        18.39          9.1   \n",
       "2  2020  MNNIT Allahabad            17.19        17.68         11.0   \n",
       "\n",
       "   ee_avg_ctc  me_avg_ctc  chemical_avg_ctc  civil_avg_ctc  \n",
       "0        8.00        7.30          6.417747           5.75  \n",
       "1        9.94       13.20         10.350000           6.00  \n",
       "2       17.68       17.68          9.000000           6.54  "
      ]
     },
     "execution_count": 51,
     "metadata": {},
     "output_type": "execute_result"
    }
   ],
   "source": [
    "df_nit.head(3)"
   ]
  },
  {
   "cell_type": "code",
   "execution_count": 52,
   "id": "d46d467b",
   "metadata": {},
   "outputs": [],
   "source": [
    "# add institute_type column in nit iit data\n",
    "df_iit[\"institute_type\"] = \"IIT\"\n",
    "df_nit[\"institute_type\"] = \"NIT\""
   ]
  },
  {
   "cell_type": "code",
   "execution_count": 53,
   "id": "08b33fa1",
   "metadata": {},
   "outputs": [],
   "source": [
    "# add cse vs ece gap in nit and iit data\n",
    "df_iit[\"cse_vs_ece_gap\"] = df_iit[\"cse_avg_ctc\"] - df_iit[\"ece_avg_ctc\"]\n",
    "df_nit[\"cse_vs_ece_gap\"] = df_nit[\"cse_avg_ctc\"] - df_nit[\"ece_avg_ctc\"]"
   ]
  },
  {
   "cell_type": "code",
   "execution_count": 54,
   "id": "2fa4c8c1",
   "metadata": {},
   "outputs": [],
   "source": [
    "# add columns which are not there in iit and iiit data with nan values\n",
    "for df in [df_iiit, df_iit, df_nit]:\n",
    "    for col in ['ee_avg_ctc', 'me_avg_ctc', 'civil_avg_ctc', 'chemical_avg_ctc']:\n",
    "        if col not in df.columns:\n",
    "            df[col] = np.nan"
   ]
  },
  {
   "cell_type": "code",
   "execution_count": 55,
   "id": "c50333f9",
   "metadata": {},
   "outputs": [],
   "source": [
    "# allign all the columns \n",
    "final_columns = [\n",
    "    'year', 'institute_name', 'institute_type',\n",
    "    'overall_avg_ctc',\n",
    "    'cse_avg_ctc', 'ece_avg_ctc','cse_vs_ece_gap', 'ee_avg_ctc',\n",
    "    'me_avg_ctc', 'civil_avg_ctc', 'chemical_avg_ctc'\n",
    "]\n",
    "\n",
    "df_iiit = df_iiit[final_columns]\n",
    "df_iit = df_iit[final_columns]\n",
    "df_nit = df_nit[final_columns]\n"
   ]
  },
  {
   "cell_type": "code",
   "execution_count": 56,
   "id": "a2667798",
   "metadata": {},
   "outputs": [],
   "source": [
    "# concatenate all the placement data\n",
    "df_placement = pd.concat([df_iiit, df_iit, df_nit], ignore_index=True)"
   ]
  },
  {
   "cell_type": "code",
   "execution_count": 57,
   "id": "1c034bc2",
   "metadata": {},
   "outputs": [],
   "source": [
    "# save the final placement csv\n",
    "df_placement.to_csv(\"/Users/anuragchaubey/smart-college-recommender/data/merged/placement_final.csv\", index=False)\n"
   ]
  }
 ],
 "metadata": {
  "kernelspec": {
   "display_name": "Python 3",
   "language": "python",
   "name": "python3"
  },
  "language_info": {
   "codemirror_mode": {
    "name": "ipython",
    "version": 3
   },
   "file_extension": ".py",
   "mimetype": "text/x-python",
   "name": "python",
   "nbconvert_exporter": "python",
   "pygments_lexer": "ipython3",
   "version": "3.12.5"
  }
 },
 "nbformat": 4,
 "nbformat_minor": 5
}
