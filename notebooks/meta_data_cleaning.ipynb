{
 "cells": [
  {
   "cell_type": "markdown",
   "id": "da7a3e60",
   "metadata": {},
   "source": [
    "# data preprocessing (meta data of colleges)"
   ]
  },
  {
   "cell_type": "code",
   "execution_count": 2,
   "id": "51736e73",
   "metadata": {},
   "outputs": [],
   "source": [
    "import numpy as np\n",
    "import pandas as pd"
   ]
  },
  {
   "cell_type": "code",
   "execution_count": 3,
   "id": "d2597eb6",
   "metadata": {},
   "outputs": [
    {
     "name": "stdout",
     "output_type": "stream",
     "text": [
      "shape of data :  (83, 10)\n",
      "columns of data :  Index(['institute_name', 'institute_type', 'city', 'state', 'city_tier',\n",
      "       'total_fee_4yr', 'total_fee_5yr', 'hostel_available', 'campus_area',\n",
      "       'infra_rating'],\n",
      "      dtype='object')\n"
     ]
    },
    {
     "data": {
      "text/html": [
       "<div>\n",
       "<style scoped>\n",
       "    .dataframe tbody tr th:only-of-type {\n",
       "        vertical-align: middle;\n",
       "    }\n",
       "\n",
       "    .dataframe tbody tr th {\n",
       "        vertical-align: top;\n",
       "    }\n",
       "\n",
       "    .dataframe thead th {\n",
       "        text-align: right;\n",
       "    }\n",
       "</style>\n",
       "<table border=\"1\" class=\"dataframe\">\n",
       "  <thead>\n",
       "    <tr style=\"text-align: right;\">\n",
       "      <th></th>\n",
       "      <th>institute_name</th>\n",
       "      <th>institute_type</th>\n",
       "      <th>city</th>\n",
       "      <th>state</th>\n",
       "      <th>city_tier</th>\n",
       "      <th>total_fee_4yr</th>\n",
       "      <th>total_fee_5yr</th>\n",
       "      <th>hostel_available</th>\n",
       "      <th>campus_area</th>\n",
       "      <th>infra_rating</th>\n",
       "    </tr>\n",
       "  </thead>\n",
       "  <tbody>\n",
       "    <tr>\n",
       "      <th>70</th>\n",
       "      <td>IIITL</td>\n",
       "      <td>IIIT</td>\n",
       "      <td>Lucknow</td>\n",
       "      <td>Uttar Pradesh</td>\n",
       "      <td>2.0</td>\n",
       "      <td>979000.0</td>\n",
       "      <td>NaN</td>\n",
       "      <td>Y</td>\n",
       "      <td>50</td>\n",
       "      <td>4.4</td>\n",
       "    </tr>\n",
       "    <tr>\n",
       "      <th>43</th>\n",
       "      <td>NIT Raipur</td>\n",
       "      <td>NIT</td>\n",
       "      <td>Raipur</td>\n",
       "      <td>Chhattisgarh</td>\n",
       "      <td>2.0</td>\n",
       "      <td>646000.0</td>\n",
       "      <td>700000.0</td>\n",
       "      <td>Y</td>\n",
       "      <td>100.0</td>\n",
       "      <td>4.2</td>\n",
       "    </tr>\n",
       "    <tr>\n",
       "      <th>11</th>\n",
       "      <td>IIT Patna</td>\n",
       "      <td>IIT</td>\n",
       "      <td>Patna</td>\n",
       "      <td>Bihar</td>\n",
       "      <td>2.0</td>\n",
       "      <td>999250.0</td>\n",
       "      <td>1000000.0</td>\n",
       "      <td>Y</td>\n",
       "      <td>501.0</td>\n",
       "      <td>4.2</td>\n",
       "    </tr>\n",
       "    <tr>\n",
       "      <th>14</th>\n",
       "      <td>IIT Indore</td>\n",
       "      <td>IIT</td>\n",
       "      <td>Indore</td>\n",
       "      <td>Madhya Pradesh</td>\n",
       "      <td>2.0</td>\n",
       "      <td>881000.0</td>\n",
       "      <td>1440000.0</td>\n",
       "      <td>Y</td>\n",
       "      <td>501.0</td>\n",
       "      <td>4.7</td>\n",
       "    </tr>\n",
       "    <tr>\n",
       "      <th>71</th>\n",
       "      <td>IIITDM Kurnool</td>\n",
       "      <td>IIIT</td>\n",
       "      <td>Kurnool</td>\n",
       "      <td>Andhra Pradesh</td>\n",
       "      <td>3.0</td>\n",
       "      <td>913000.0</td>\n",
       "      <td>972000.0</td>\n",
       "      <td>Y</td>\n",
       "      <td>151</td>\n",
       "      <td>4.5</td>\n",
       "    </tr>\n",
       "  </tbody>\n",
       "</table>\n",
       "</div>"
      ],
      "text/plain": [
       "    institute_name institute_type     city           state  city_tier  \\\n",
       "70           IIITL           IIIT  Lucknow   Uttar Pradesh        2.0   \n",
       "43      NIT Raipur            NIT   Raipur    Chhattisgarh        2.0   \n",
       "11       IIT Patna            IIT    Patna           Bihar        2.0   \n",
       "14      IIT Indore            IIT   Indore  Madhya Pradesh        2.0   \n",
       "71  IIITDM Kurnool           IIIT  Kurnool  Andhra Pradesh        3.0   \n",
       "\n",
       "    total_fee_4yr  total_fee_5yr hostel_available campus_area  infra_rating  \n",
       "70       979000.0            NaN                Y          50           4.4  \n",
       "43       646000.0       700000.0                Y       100.0           4.2  \n",
       "11       999250.0      1000000.0                Y       501.0           4.2  \n",
       "14       881000.0      1440000.0                Y       501.0           4.7  \n",
       "71       913000.0       972000.0                Y         151           4.5  "
      ]
     },
     "execution_count": 3,
     "metadata": {},
     "output_type": "execute_result"
    }
   ],
   "source": [
    "df = pd.read_csv(\"/Users/anuragchaubey/smart-college-recommender/data/college_metadata.csv\")\n",
    "print(\"shape of data : \",df.shape)\n",
    "print(\"columns of data : \",df.columns)\n",
    "df.sample(5)"
   ]
  },
  {
   "cell_type": "code",
   "execution_count": 4,
   "id": "df263cad",
   "metadata": {},
   "outputs": [],
   "source": [
    "# column name cleaning\n",
    "df.columns = df.columns.str.strip().str.lower().str.replace(' ', '_')"
   ]
  },
  {
   "cell_type": "code",
   "execution_count": 5,
   "id": "71268973",
   "metadata": {},
   "outputs": [
    {
     "data": {
      "text/plain": [
       "Index(['institute_name', 'institute_type', 'city', 'state', 'city_tier',\n",
       "       'total_fee_4yr', 'total_fee_5yr', 'hostel_available', 'campus_area',\n",
       "       'infra_rating'],\n",
       "      dtype='object')"
      ]
     },
     "execution_count": 5,
     "metadata": {},
     "output_type": "execute_result"
    }
   ],
   "source": [
    "df.columns"
   ]
  },
  {
   "cell_type": "code",
   "execution_count": 6,
   "id": "b07344a0",
   "metadata": {},
   "outputs": [],
   "source": [
    "# missing values & \"under construction\" handling in campus_area column\n",
    "df.replace(['under construction', '-', '–', '—', ' '], pd.NA, inplace=True)"
   ]
  },
  {
   "cell_type": "code",
   "execution_count": 7,
   "id": "72aecf5c",
   "metadata": {},
   "outputs": [
    {
     "data": {
      "text/plain": [
       "institute_name       2\n",
       "institute_type       2\n",
       "city                 2\n",
       "state                2\n",
       "city_tier            2\n",
       "total_fee_4yr        2\n",
       "total_fee_5yr       27\n",
       "hostel_available     2\n",
       "campus_area         11\n",
       "infra_rating         2\n",
       "dtype: int64"
      ]
     },
     "execution_count": 7,
     "metadata": {},
     "output_type": "execute_result"
    }
   ],
   "source": [
    "df.isnull().sum()"
   ]
  },
  {
   "cell_type": "code",
   "execution_count": 8,
   "id": "cb958adc",
   "metadata": {},
   "outputs": [],
   "source": [
    "# delete the rows which are totally empty\n",
    "df.dropna(how='all', inplace=True)\n"
   ]
  },
  {
   "cell_type": "code",
   "execution_count": 9,
   "id": "c6cb81da",
   "metadata": {},
   "outputs": [
    {
     "data": {
      "text/plain": [
       "institute_name       0\n",
       "institute_type       0\n",
       "city                 0\n",
       "state                0\n",
       "city_tier            0\n",
       "total_fee_4yr        0\n",
       "total_fee_5yr       25\n",
       "hostel_available     0\n",
       "campus_area          9\n",
       "infra_rating         0\n",
       "dtype: int64"
      ]
     },
     "execution_count": 9,
     "metadata": {},
     "output_type": "execute_result"
    }
   ],
   "source": [
    "df.isnull().sum()"
   ]
  },
  {
   "cell_type": "code",
   "execution_count": 10,
   "id": "c5ead4ff",
   "metadata": {},
   "outputs": [
    {
     "data": {
      "text/plain": [
       "(81, 10)"
      ]
     },
     "execution_count": 10,
     "metadata": {},
     "output_type": "execute_result"
    }
   ],
   "source": [
    "df.shape"
   ]
  },
  {
   "cell_type": "code",
   "execution_count": 11,
   "id": "685d2d2b",
   "metadata": {},
   "outputs": [],
   "source": [
    "# strip extraspaces from text columns\n",
    "text_cols = ['institute_name', 'institute_type', 'city', 'state']\n",
    "for col in text_cols:\n",
    "    df[col] = df[col].str.strip()\n"
   ]
  },
  {
   "cell_type": "markdown",
   "id": "977cb3c3",
   "metadata": {},
   "source": [
    "## handling missing values "
   ]
  },
  {
   "cell_type": "code",
   "execution_count": 12,
   "id": "6cb2600f",
   "metadata": {},
   "outputs": [],
   "source": [
    "# campus_area column\n",
    "\n",
    "# create a new column campus_status\n",
    "df['campus_status'] = df['campus_area'].apply(lambda x: 'Under Construction' if pd.isna(x) else 'Available')\n",
    "df['campus_status'] = df['campus_status'].astype('category')\n",
    "\n",
    "# fill campus_area values with 0\n",
    "df['campus_area'] = df['campus_area'].fillna(0)\n"
   ]
  },
  {
   "cell_type": "code",
   "execution_count": 13,
   "id": "590fc0cf",
   "metadata": {},
   "outputs": [],
   "source": [
    "# total_fee_5yr column\n",
    "\n",
    "# add a new column to check availability of 5 yr program\n",
    "df['offers_5yr_program'] = df['total_fee_5yr'].notna()\n",
    "df['offers_5yr_program'] = df['offers_5yr_program'].astype(bool)\n",
    "\n",
    "# fill total_fee_5yr values with 0\n",
    "df['total_fee_5yr'] = df['total_fee_5yr'].fillna(0)\n"
   ]
  },
  {
   "cell_type": "code",
   "execution_count": 14,
   "id": "07eedf1a",
   "metadata": {},
   "outputs": [],
   "source": [
    "# convert given columns to their respective data types\n",
    "\n",
    "# float type\n",
    "df['campus_area'] = pd.to_numeric(df['campus_area'], errors='coerce')\n",
    "\n",
    "# bool type\n",
    "df['hostel_available'] = df['hostel_available'].map({'Y': True, 'N': False})\n",
    "\n",
    "# int type\n",
    "df['total_fee_4yr'] = df['total_fee_4yr'].astype(int)\n",
    "df['city_tier'] = df['city_tier'].astype(int)\n",
    "\n",
    "# category type\n",
    "df['institute_type'] = df['institute_type'].astype('category')"
   ]
  },
  {
   "cell_type": "code",
   "execution_count": 15,
   "id": "575518ce",
   "metadata": {},
   "outputs": [
    {
     "data": {
      "text/plain": [
       "institute_name        0\n",
       "institute_type        0\n",
       "city                  0\n",
       "state                 0\n",
       "city_tier             0\n",
       "total_fee_4yr         0\n",
       "total_fee_5yr         0\n",
       "hostel_available      0\n",
       "campus_area           0\n",
       "infra_rating          0\n",
       "campus_status         0\n",
       "offers_5yr_program    0\n",
       "dtype: int64"
      ]
     },
     "execution_count": 15,
     "metadata": {},
     "output_type": "execute_result"
    }
   ],
   "source": [
    "df.isnull().sum()"
   ]
  },
  {
   "cell_type": "code",
   "execution_count": 16,
   "id": "2f9c1a47",
   "metadata": {},
   "outputs": [
    {
     "name": "stdout",
     "output_type": "stream",
     "text": [
      "<class 'pandas.core.frame.DataFrame'>\n",
      "Index: 81 entries, 0 to 82\n",
      "Data columns (total 12 columns):\n",
      " #   Column              Non-Null Count  Dtype   \n",
      "---  ------              --------------  -----   \n",
      " 0   institute_name      81 non-null     object  \n",
      " 1   institute_type      81 non-null     category\n",
      " 2   city                81 non-null     object  \n",
      " 3   state               81 non-null     object  \n",
      " 4   city_tier           81 non-null     int64   \n",
      " 5   total_fee_4yr       81 non-null     int64   \n",
      " 6   total_fee_5yr       81 non-null     float64 \n",
      " 7   hostel_available    81 non-null     bool    \n",
      " 8   campus_area         81 non-null     float64 \n",
      " 9   infra_rating        81 non-null     float64 \n",
      " 10  campus_status       81 non-null     category\n",
      " 11  offers_5yr_program  81 non-null     bool    \n",
      "dtypes: bool(2), category(2), float64(3), int64(2), object(3)\n",
      "memory usage: 6.3+ KB\n"
     ]
    }
   ],
   "source": [
    "df.info()"
   ]
  },
  {
   "cell_type": "code",
   "execution_count": null,
   "id": "f5c37ea7",
   "metadata": {},
   "outputs": [],
   "source": [
    "df.to_csv('/Users/anuragchaubey/smart-college-recommender/data/cleaned/metadata_cleaned.csv', index=False)\n"
   ]
  }
 ],
 "metadata": {
  "kernelspec": {
   "display_name": "Python 3",
   "language": "python",
   "name": "python3"
  },
  "language_info": {
   "codemirror_mode": {
    "name": "ipython",
    "version": 3
   },
   "file_extension": ".py",
   "mimetype": "text/x-python",
   "name": "python",
   "nbconvert_exporter": "python",
   "pygments_lexer": "ipython3",
   "version": "3.12.5"
  }
 },
 "nbformat": 4,
 "nbformat_minor": 5
}
