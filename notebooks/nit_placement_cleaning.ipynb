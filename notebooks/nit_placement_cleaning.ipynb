{
 "cells": [
  {
   "cell_type": "markdown",
   "id": "3757dc98",
   "metadata": {},
   "source": [
    "# data preprocessing for nit placement csv"
   ]
  },
  {
   "cell_type": "code",
   "execution_count": 2,
   "id": "cbcd45b9",
   "metadata": {},
   "outputs": [],
   "source": [
    "import numpy as np\n",
    "import pandas as pd"
   ]
  },
  {
   "cell_type": "code",
   "execution_count": 3,
   "id": "2e4a679c",
   "metadata": {},
   "outputs": [
    {
     "data": {
      "text/html": [
       "<div>\n",
       "<style scoped>\n",
       "    .dataframe tbody tr th:only-of-type {\n",
       "        vertical-align: middle;\n",
       "    }\n",
       "\n",
       "    .dataframe tbody tr th {\n",
       "        vertical-align: top;\n",
       "    }\n",
       "\n",
       "    .dataframe thead th {\n",
       "        text-align: right;\n",
       "    }\n",
       "</style>\n",
       "<table border=\"1\" class=\"dataframe\">\n",
       "  <thead>\n",
       "    <tr style=\"text-align: right;\">\n",
       "      <th></th>\n",
       "      <th>Year</th>\n",
       "      <th>NIT Name</th>\n",
       "      <th>Overall Avg CTC (LPA)</th>\n",
       "      <th>CSE Avg (LPA)</th>\n",
       "      <th>ECE Avg (LPA)</th>\n",
       "      <th>EE Avg (LPA)</th>\n",
       "      <th>ME Avg (LPA)</th>\n",
       "      <th>Chemical Avg (LPA)</th>\n",
       "      <th>Civil Avg (LPA)</th>\n",
       "    </tr>\n",
       "  </thead>\n",
       "  <tbody>\n",
       "    <tr>\n",
       "      <th>136</th>\n",
       "      <td>2024.0</td>\n",
       "      <td>NIT Silchar</td>\n",
       "      <td>13.34</td>\n",
       "      <td>14.90</td>\n",
       "      <td>13.34</td>\n",
       "      <td>11.84</td>\n",
       "      <td>13.34</td>\n",
       "      <td>NaN</td>\n",
       "      <td>13.34</td>\n",
       "    </tr>\n",
       "    <tr>\n",
       "      <th>122</th>\n",
       "      <td>2023.0</td>\n",
       "      <td>IIEST Shibpur</td>\n",
       "      <td>8.50</td>\n",
       "      <td>8.50</td>\n",
       "      <td>8.50</td>\n",
       "      <td>8.50</td>\n",
       "      <td>8.50</td>\n",
       "      <td>NaN</td>\n",
       "      <td>NaN</td>\n",
       "    </tr>\n",
       "    <tr>\n",
       "      <th>56</th>\n",
       "      <td>2021.0</td>\n",
       "      <td>NIT Goa</td>\n",
       "      <td>7.61</td>\n",
       "      <td>9.95</td>\n",
       "      <td>8.50</td>\n",
       "      <td>7.56</td>\n",
       "      <td>7.00</td>\n",
       "      <td>NaN</td>\n",
       "      <td>5.83</td>\n",
       "    </tr>\n",
       "    <tr>\n",
       "      <th>116</th>\n",
       "      <td>2023.0</td>\n",
       "      <td>NIT Sikkim</td>\n",
       "      <td>8.50</td>\n",
       "      <td>11.98</td>\n",
       "      <td>11.56</td>\n",
       "      <td>8.22</td>\n",
       "      <td>7.60</td>\n",
       "      <td>NaN</td>\n",
       "      <td>6.98</td>\n",
       "    </tr>\n",
       "    <tr>\n",
       "      <th>36</th>\n",
       "      <td>2021.0</td>\n",
       "      <td>NIT Durgapur</td>\n",
       "      <td>NaN</td>\n",
       "      <td>21.45</td>\n",
       "      <td>17.49</td>\n",
       "      <td>14.61</td>\n",
       "      <td>9.72</td>\n",
       "      <td>8.87</td>\n",
       "      <td>7.39</td>\n",
       "    </tr>\n",
       "  </tbody>\n",
       "</table>\n",
       "</div>"
      ],
      "text/plain": [
       "       Year       NIT Name  Overall Avg CTC (LPA)  CSE Avg (LPA)  \\\n",
       "136  2024.0    NIT Silchar                  13.34          14.90   \n",
       "122  2023.0  IIEST Shibpur                   8.50           8.50   \n",
       "56   2021.0        NIT Goa                   7.61           9.95   \n",
       "116  2023.0     NIT Sikkim                   8.50          11.98   \n",
       "36   2021.0   NIT Durgapur                    NaN          21.45   \n",
       "\n",
       "     ECE Avg (LPA)  EE Avg (LPA)  ME Avg (LPA)  Chemical Avg (LPA)  \\\n",
       "136          13.34         11.84         13.34                 NaN   \n",
       "122           8.50          8.50          8.50                 NaN   \n",
       "56            8.50          7.56          7.00                 NaN   \n",
       "116          11.56          8.22          7.60                 NaN   \n",
       "36           17.49         14.61          9.72                8.87   \n",
       "\n",
       "     Civil Avg (LPA)  \n",
       "136            13.34  \n",
       "122              NaN  \n",
       "56              5.83  \n",
       "116             6.98  \n",
       "36              7.39  "
      ]
     },
     "execution_count": 3,
     "metadata": {},
     "output_type": "execute_result"
    }
   ],
   "source": [
    "df_nit = pd.read_csv(\"/Users/anuragchaubey/smart-college-recommender/data/nit_ placement.csv\")\n",
    "df_nit.sample(5)"
   ]
  },
  {
   "cell_type": "code",
   "execution_count": 4,
   "id": "71494e9b",
   "metadata": {},
   "outputs": [],
   "source": [
    "# rename the columns \n",
    "df_nit.rename(columns={\n",
    "    'Year': 'year',\n",
    "    'NIT Name': 'institute_name',\n",
    "    'Overall Avg CTC (LPA)': 'overall_avg_ctc',\n",
    "    'CSE Avg (LPA)': 'cse_avg_ctc',\n",
    "    'ECE Avg (LPA)': 'ece_avg_ctc',\n",
    "    'EE Avg (LPA)': 'ee_avg_ctc',\n",
    "    'ME Avg (LPA)': 'me_avg_ctc',\n",
    "    'Chemical Avg (LPA)': 'chemical_avg_ctc',\n",
    "    'Civil Avg (LPA)': 'civil_avg_ctc'\n",
    "}, inplace=True)"
   ]
  },
  {
   "cell_type": "code",
   "execution_count": 5,
   "id": "904a68d0",
   "metadata": {},
   "outputs": [
    {
     "data": {
      "text/html": [
       "<div>\n",
       "<style scoped>\n",
       "    .dataframe tbody tr th:only-of-type {\n",
       "        vertical-align: middle;\n",
       "    }\n",
       "\n",
       "    .dataframe tbody tr th {\n",
       "        vertical-align: top;\n",
       "    }\n",
       "\n",
       "    .dataframe thead th {\n",
       "        text-align: right;\n",
       "    }\n",
       "</style>\n",
       "<table border=\"1\" class=\"dataframe\">\n",
       "  <thead>\n",
       "    <tr style=\"text-align: right;\">\n",
       "      <th></th>\n",
       "      <th>year</th>\n",
       "      <th>institute_name</th>\n",
       "      <th>overall_avg_ctc</th>\n",
       "      <th>cse_avg_ctc</th>\n",
       "      <th>ece_avg_ctc</th>\n",
       "      <th>ee_avg_ctc</th>\n",
       "      <th>me_avg_ctc</th>\n",
       "      <th>chemical_avg_ctc</th>\n",
       "      <th>civil_avg_ctc</th>\n",
       "    </tr>\n",
       "  </thead>\n",
       "  <tbody>\n",
       "    <tr>\n",
       "      <th>0</th>\n",
       "      <td>2020.0</td>\n",
       "      <td>NIT Trichy</td>\n",
       "      <td>12.00</td>\n",
       "      <td>12.93</td>\n",
       "      <td>12.93</td>\n",
       "      <td>9.50</td>\n",
       "      <td>9.16</td>\n",
       "      <td>12.93</td>\n",
       "      <td>NaN</td>\n",
       "    </tr>\n",
       "    <tr>\n",
       "      <th>1</th>\n",
       "      <td>2020.0</td>\n",
       "      <td>NIT Surathkal</td>\n",
       "      <td>19.66</td>\n",
       "      <td>19.66</td>\n",
       "      <td>16.25</td>\n",
       "      <td>16.25</td>\n",
       "      <td>NaN</td>\n",
       "      <td>16.25</td>\n",
       "      <td>16.25</td>\n",
       "    </tr>\n",
       "    <tr>\n",
       "      <th>2</th>\n",
       "      <td>2020.0</td>\n",
       "      <td>NIT Rourkela</td>\n",
       "      <td>8.00</td>\n",
       "      <td>13.80</td>\n",
       "      <td>10.60</td>\n",
       "      <td>13.62</td>\n",
       "      <td>NaN</td>\n",
       "      <td>9.36</td>\n",
       "      <td>10.50</td>\n",
       "    </tr>\n",
       "    <tr>\n",
       "      <th>3</th>\n",
       "      <td>2020.0</td>\n",
       "      <td>NIT Warangal</td>\n",
       "      <td>14.35</td>\n",
       "      <td>18.55</td>\n",
       "      <td>9.40</td>\n",
       "      <td>22.00</td>\n",
       "      <td>NaN</td>\n",
       "      <td>NaN</td>\n",
       "      <td>NaN</td>\n",
       "    </tr>\n",
       "    <tr>\n",
       "      <th>4</th>\n",
       "      <td>2020.0</td>\n",
       "      <td>NIT Calicut</td>\n",
       "      <td>17.68</td>\n",
       "      <td>17.68</td>\n",
       "      <td>12.11</td>\n",
       "      <td>12.11</td>\n",
       "      <td>8.00</td>\n",
       "      <td>10.68</td>\n",
       "      <td>12.00</td>\n",
       "    </tr>\n",
       "  </tbody>\n",
       "</table>\n",
       "</div>"
      ],
      "text/plain": [
       "     year institute_name  overall_avg_ctc  cse_avg_ctc  ece_avg_ctc  \\\n",
       "0  2020.0     NIT Trichy            12.00        12.93        12.93   \n",
       "1  2020.0  NIT Surathkal            19.66        19.66        16.25   \n",
       "2  2020.0   NIT Rourkela             8.00        13.80        10.60   \n",
       "3  2020.0   NIT Warangal            14.35        18.55         9.40   \n",
       "4  2020.0    NIT Calicut            17.68        17.68        12.11   \n",
       "\n",
       "   ee_avg_ctc  me_avg_ctc  chemical_avg_ctc  civil_avg_ctc  \n",
       "0        9.50        9.16             12.93            NaN  \n",
       "1       16.25         NaN             16.25          16.25  \n",
       "2       13.62         NaN              9.36          10.50  \n",
       "3       22.00         NaN               NaN            NaN  \n",
       "4       12.11        8.00             10.68          12.00  "
      ]
     },
     "execution_count": 5,
     "metadata": {},
     "output_type": "execute_result"
    }
   ],
   "source": [
    "df_nit.head()"
   ]
  },
  {
   "cell_type": "code",
   "execution_count": 6,
   "id": "c3417cc0",
   "metadata": {},
   "outputs": [
    {
     "name": "stdout",
     "output_type": "stream",
     "text": [
      "<class 'pandas.core.frame.DataFrame'>\n",
      "RangeIndex: 154 entries, 0 to 153\n",
      "Data columns (total 9 columns):\n",
      " #   Column            Non-Null Count  Dtype  \n",
      "---  ------            --------------  -----  \n",
      " 0   year              150 non-null    float64\n",
      " 1   institute_name    150 non-null    object \n",
      " 2   overall_avg_ctc   141 non-null    float64\n",
      " 3   cse_avg_ctc       142 non-null    float64\n",
      " 4   ece_avg_ctc       142 non-null    float64\n",
      " 5   ee_avg_ctc        140 non-null    float64\n",
      " 6   me_avg_ctc        115 non-null    float64\n",
      " 7   chemical_avg_ctc  63 non-null     float64\n",
      " 8   civil_avg_ctc     140 non-null    float64\n",
      "dtypes: float64(8), object(1)\n",
      "memory usage: 11.0+ KB\n"
     ]
    }
   ],
   "source": [
    "df_nit.info()"
   ]
  },
  {
   "cell_type": "code",
   "execution_count": 7,
   "id": "7b8b7cad",
   "metadata": {},
   "outputs": [],
   "source": [
    "# convert year to int\n",
    "df_nit['year'] = df_nit['year'].astype('Int64')"
   ]
  },
  {
   "cell_type": "code",
   "execution_count": 8,
   "id": "0ad0d544",
   "metadata": {},
   "outputs": [],
   "source": [
    "# trim whitespaces from institute_name\n",
    "df_nit['institute_name'] = df_nit['institute_name'].str.strip()"
   ]
  },
  {
   "cell_type": "code",
   "execution_count": 9,
   "id": "19cafcb3",
   "metadata": {},
   "outputs": [],
   "source": [
    "# remove fully blank rows\n",
    "df_nit.dropna(how='all', inplace=True)"
   ]
  },
  {
   "cell_type": "code",
   "execution_count": 10,
   "id": "d7f8fc09",
   "metadata": {},
   "outputs": [
    {
     "name": "stdout",
     "output_type": "stream",
     "text": [
      "overall_avg_ctc      9\n",
      "cse_avg_ctc          8\n",
      "ece_avg_ctc          8\n",
      "ee_avg_ctc          10\n",
      "me_avg_ctc          35\n",
      "chemical_avg_ctc    87\n",
      "civil_avg_ctc       10\n",
      "dtype: int64\n"
     ]
    }
   ],
   "source": [
    "# check missing values\n",
    "missing_values = df_nit.isnull().sum()\n",
    "print(missing_values[missing_values > 0])"
   ]
  },
  {
   "cell_type": "code",
   "execution_count": 41,
   "id": "a55fba9e",
   "metadata": {},
   "outputs": [],
   "source": [
    "# fill missing values in overall_avg_ctc\n",
    "\n",
    "# fill with data from forward or backward\n",
    "df_nit['overall_avg_ctc'] = (\n",
    "    df_nit.groupby('institute_name')['overall_avg_ctc']\n",
    "          .transform(lambda x: x.ffill().bfill())\n",
    ")\n",
    "\n",
    "# if still left fill with overall mean\n",
    "mean_overall = df_nit['overall_avg_ctc'].mean()\n",
    "df_nit['overall_avg_ctc'] = df_nit['overall_avg_ctc'].fillna(mean_overall)\n"
   ]
  },
  {
   "cell_type": "code",
   "execution_count": 14,
   "id": "5f380239",
   "metadata": {},
   "outputs": [
    {
     "name": "stdout",
     "output_type": "stream",
     "text": [
      "Missing values (overall_avg_ctc): 0\n"
     ]
    }
   ],
   "source": [
    "print(\"Missing values (overall_avg_ctc):\", df_nit['overall_avg_ctc'].isnull().sum())"
   ]
  },
  {
   "cell_type": "code",
   "execution_count": null,
   "id": "aef9ac8b",
   "metadata": {},
   "outputs": [
    {
     "name": "stdout",
     "output_type": "stream",
     "text": [
      "Average CSE to Overall ratio: 1.2661728018330707\n"
     ]
    }
   ],
   "source": [
    "# filling missing values (cse_avg_ctc)\n",
    "\n",
    "# fill with other cse data from same college\n",
    "df_nit['cse_avg_ctc'] = (\n",
    "    df_nit.groupby('institute_name')['cse_avg_ctc']\n",
    "          .transform(lambda x: x.ffill().bfill())\n",
    ")\n",
    "\n",
    "# fill with correlation method (remaining)\n",
    "cse_ratio = (df_nit['cse_avg_ctc'] / df_nit['overall_avg_ctc']).mean()\n",
    "print(\"Average CSE to Overall ratio:\", cse_ratio)\n",
    "\n",
    "df_nit['cse_avg_ctc'] = df_nit['cse_avg_ctc'].fillna(\n",
    "    df_nit['overall_avg_ctc'] * cse_ratio\n",
    ")\n"
   ]
  },
  {
   "cell_type": "code",
   "execution_count": 17,
   "id": "01a19556",
   "metadata": {},
   "outputs": [
    {
     "name": "stdout",
     "output_type": "stream",
     "text": [
      "Remaining nulls in cse_avg_ctc: 0\n"
     ]
    }
   ],
   "source": [
    "print(\"Remaining nulls in cse_avg_ctc:\", df_nit['cse_avg_ctc'].isnull().sum())\n"
   ]
  },
  {
   "cell_type": "code",
   "execution_count": null,
   "id": "9d32c7a2",
   "metadata": {},
   "outputs": [
    {
     "name": "stdout",
     "output_type": "stream",
     "text": [
      "Avg ECE to Overall Ratio: 1.1030218881161595\n"
     ]
    }
   ],
   "source": [
    "# filling missing values  (ece_avg_ctc)\n",
    "\n",
    "# forward , backward filling\n",
    "df_nit['ece_avg_ctc'] = (\n",
    "    df_nit.groupby('institute_name')['ece_avg_ctc']\n",
    "          .transform(lambda x: x.ffill().bfill())\n",
    ")\n",
    "\n",
    "# fill remaining values. ( using correlation method)\n",
    "ece_ratio = (df_nit['ece_avg_ctc'] / df_nit['overall_avg_ctc']).mean()\n",
    "print(\"Avg ECE to Overall Ratio:\", ece_ratio)\n",
    "\n",
    "df_nit['ece_avg_ctc'] = df_nit['ece_avg_ctc'].fillna(\n",
    "    df_nit['overall_avg_ctc'] * ece_ratio\n",
    ")"
   ]
  },
  {
   "cell_type": "code",
   "execution_count": 21,
   "id": "d143f65e",
   "metadata": {},
   "outputs": [
    {
     "data": {
      "text/plain": [
       "np.int64(0)"
      ]
     },
     "execution_count": 21,
     "metadata": {},
     "output_type": "execute_result"
    }
   ],
   "source": [
    "df_nit['ece_avg_ctc'].isnull().sum()"
   ]
  },
  {
   "cell_type": "code",
   "execution_count": 22,
   "id": "7b63d379",
   "metadata": {},
   "outputs": [
    {
     "name": "stdout",
     "output_type": "stream",
     "text": [
      "EE to Overall Ratio: 1.0063835764051374\n"
     ]
    }
   ],
   "source": [
    "# filling missing values  (ee_avg_ctc)\n",
    "\n",
    "# forward , backward filling\n",
    "df_nit['ee_avg_ctc'] = (\n",
    "    df_nit.groupby('institute_name')['ee_avg_ctc']\n",
    "          .transform(lambda x: x.ffill().bfill())\n",
    ")\n",
    "\n",
    "# fill remaining values (correlation method)\n",
    "ee_ratio = (df_nit['ee_avg_ctc'] / df_nit['overall_avg_ctc']).mean()\n",
    "print(\"EE to Overall Ratio:\", ee_ratio)\n",
    "\n",
    "df_nit['ee_avg_ctc'] = df_nit['ee_avg_ctc'].fillna(\n",
    "    df_nit['overall_avg_ctc'] * ee_ratio\n",
    ")\n"
   ]
  },
  {
   "cell_type": "code",
   "execution_count": 23,
   "id": "450bf1ed",
   "metadata": {},
   "outputs": [
    {
     "data": {
      "text/plain": [
       "np.int64(0)"
      ]
     },
     "execution_count": 23,
     "metadata": {},
     "output_type": "execute_result"
    }
   ],
   "source": [
    "df_nit[\"ee_avg_ctc\"].isnull().sum()"
   ]
  },
  {
   "cell_type": "code",
   "execution_count": null,
   "id": "8e426c5b",
   "metadata": {},
   "outputs": [
    {
     "name": "stdout",
     "output_type": "stream",
     "text": [
      "ME to Overall Ratio: 0.911323006964742\n"
     ]
    }
   ],
   "source": [
    "# filling missing values (me_avg_ctc)\n",
    "\n",
    "# forward fill & backward fill\n",
    "df_nit['me_avg_ctc'] = (\n",
    "    df_nit.groupby('institute_name')['me_avg_ctc']\n",
    "          .transform(lambda x: x.ffill().bfill())\n",
    ")\n",
    "\n",
    "# fill remaining values (correlation method)\n",
    "me_ratio = (df_nit['me_avg_ctc'] / df_nit['overall_avg_ctc']).mean()\n",
    "print(\"ME to Overall Ratio:\", me_ratio)\n",
    "\n",
    "df_nit['me_avg_ctc'] = df_nit['me_avg_ctc'].fillna(\n",
    "    df_nit['overall_avg_ctc'] * me_ratio\n",
    ")\n"
   ]
  },
  {
   "cell_type": "code",
   "execution_count": 25,
   "id": "6fb02efa",
   "metadata": {},
   "outputs": [
    {
     "data": {
      "text/plain": [
       "np.int64(0)"
      ]
     },
     "execution_count": 25,
     "metadata": {},
     "output_type": "execute_result"
    }
   ],
   "source": [
    "df_nit['me_avg_ctc'].isnull().sum()"
   ]
  },
  {
   "cell_type": "code",
   "execution_count": null,
   "id": "85e3705e",
   "metadata": {},
   "outputs": [
    {
     "name": "stdout",
     "output_type": "stream",
     "text": [
      "Chemical to Overall Ratio: 0.8791434481379429\n"
     ]
    }
   ],
   "source": [
    "# filling missing value (chemical_avg_ctc )\n",
    "\n",
    "# forward fill & backward fill\n",
    "df_nit['chemical_avg_ctc'] = (\n",
    "    df_nit.groupby('institute_name')['chemical_avg_ctc']\n",
    "          .transform(lambda x: x.ffill().bfill())\n",
    ")\n",
    "\n",
    "# fill remaining values (correlation method)\n",
    "chem_ratio = (df_nit['chemical_avg_ctc'] / df_nit['overall_avg_ctc']).mean()\n",
    "print(\"Chemical to Overall Ratio:\", chem_ratio)\n",
    "\n",
    "df_nit['chemical_avg_ctc'] = df_nit['chemical_avg_ctc'].fillna(\n",
    "    df_nit['overall_avg_ctc'] * chem_ratio\n",
    ")"
   ]
  },
  {
   "cell_type": "code",
   "execution_count": 35,
   "id": "fc3aeac5",
   "metadata": {},
   "outputs": [
    {
     "data": {
      "text/plain": [
       "np.int64(0)"
      ]
     },
     "execution_count": 35,
     "metadata": {},
     "output_type": "execute_result"
    }
   ],
   "source": [
    "df_nit['chemical_avg_ctc'].isnull().sum()"
   ]
  },
  {
   "cell_type": "code",
   "execution_count": 32,
   "id": "2c8ab871",
   "metadata": {},
   "outputs": [
    {
     "name": "stdout",
     "output_type": "stream",
     "text": [
      "Civil to Overall Ratio: 0.8363961814842825\n"
     ]
    }
   ],
   "source": [
    "# filling missing values (civil_avg_ctc)\n",
    "\n",
    "# forward fill & backward fill\n",
    "df_nit['civil_avg_ctc'] = (\n",
    "    df_nit.groupby('institute_name')['civil_avg_ctc']\n",
    "          .transform(lambda x: x.ffill().bfill())\n",
    ")\n",
    "\n",
    "# fill remaining values (correlation method)\n",
    "civil_ratio = (df_nit['civil_avg_ctc'] / df_nit['overall_avg_ctc']).mean()\n",
    "print(\"Civil to Overall Ratio:\", civil_ratio)\n",
    "\n",
    "df_nit['civil_avg_ctc'] = df_nit['civil_avg_ctc'].fillna(\n",
    "    df_nit['overall_avg_ctc'] * civil_ratio\n",
    ")\n"
   ]
  },
  {
   "cell_type": "code",
   "execution_count": 34,
   "id": "7c37c5e5",
   "metadata": {},
   "outputs": [
    {
     "data": {
      "text/plain": [
       "year                0\n",
       "institute_name      0\n",
       "overall_avg_ctc     0\n",
       "cse_avg_ctc         0\n",
       "ece_avg_ctc         0\n",
       "ee_avg_ctc          0\n",
       "me_avg_ctc          0\n",
       "chemical_avg_ctc    0\n",
       "civil_avg_ctc       0\n",
       "dtype: int64"
      ]
     },
     "execution_count": 34,
     "metadata": {},
     "output_type": "execute_result"
    }
   ],
   "source": [
    "df_nit.isnull().sum()"
   ]
  },
  {
   "cell_type": "code",
   "execution_count": 36,
   "id": "514205b7",
   "metadata": {},
   "outputs": [],
   "source": [
    "# sort the data\n",
    "df_nit = df_nit.sort_values(by=['year', 'institute_name']).reset_index(drop=True)"
   ]
  },
  {
   "cell_type": "code",
   "execution_count": 37,
   "id": "afcc079f",
   "metadata": {},
   "outputs": [
    {
     "data": {
      "text/html": [
       "<div>\n",
       "<style scoped>\n",
       "    .dataframe tbody tr th:only-of-type {\n",
       "        vertical-align: middle;\n",
       "    }\n",
       "\n",
       "    .dataframe tbody tr th {\n",
       "        vertical-align: top;\n",
       "    }\n",
       "\n",
       "    .dataframe thead th {\n",
       "        text-align: right;\n",
       "    }\n",
       "</style>\n",
       "<table border=\"1\" class=\"dataframe\">\n",
       "  <thead>\n",
       "    <tr style=\"text-align: right;\">\n",
       "      <th></th>\n",
       "      <th>year</th>\n",
       "      <th>institute_name</th>\n",
       "      <th>overall_avg_ctc</th>\n",
       "      <th>cse_avg_ctc</th>\n",
       "      <th>ece_avg_ctc</th>\n",
       "      <th>ee_avg_ctc</th>\n",
       "      <th>me_avg_ctc</th>\n",
       "      <th>chemical_avg_ctc</th>\n",
       "      <th>civil_avg_ctc</th>\n",
       "    </tr>\n",
       "  </thead>\n",
       "  <tbody>\n",
       "    <tr>\n",
       "      <th>0</th>\n",
       "      <td>2020</td>\n",
       "      <td>IIEST Shibpur</td>\n",
       "      <td>7.30</td>\n",
       "      <td>9.50</td>\n",
       "      <td>16.50</td>\n",
       "      <td>8.00</td>\n",
       "      <td>7.30</td>\n",
       "      <td>6.417747</td>\n",
       "      <td>5.75</td>\n",
       "    </tr>\n",
       "    <tr>\n",
       "      <th>1</th>\n",
       "      <td>2020</td>\n",
       "      <td>MNIT Jaipur</td>\n",
       "      <td>9.10</td>\n",
       "      <td>18.39</td>\n",
       "      <td>9.10</td>\n",
       "      <td>9.94</td>\n",
       "      <td>13.20</td>\n",
       "      <td>10.350000</td>\n",
       "      <td>6.00</td>\n",
       "    </tr>\n",
       "    <tr>\n",
       "      <th>2</th>\n",
       "      <td>2020</td>\n",
       "      <td>MNNIT Allahabad</td>\n",
       "      <td>17.19</td>\n",
       "      <td>17.68</td>\n",
       "      <td>11.00</td>\n",
       "      <td>17.68</td>\n",
       "      <td>17.68</td>\n",
       "      <td>9.000000</td>\n",
       "      <td>6.54</td>\n",
       "    </tr>\n",
       "    <tr>\n",
       "      <th>3</th>\n",
       "      <td>2020</td>\n",
       "      <td>NIT Agartala</td>\n",
       "      <td>6.95</td>\n",
       "      <td>14.71</td>\n",
       "      <td>13.83</td>\n",
       "      <td>15.00</td>\n",
       "      <td>6.50</td>\n",
       "      <td>7.000000</td>\n",
       "      <td>6.95</td>\n",
       "    </tr>\n",
       "    <tr>\n",
       "      <th>4</th>\n",
       "      <td>2020</td>\n",
       "      <td>NIT Andhra Pradesh</td>\n",
       "      <td>6.54</td>\n",
       "      <td>10.70</td>\n",
       "      <td>6.29</td>\n",
       "      <td>6.54</td>\n",
       "      <td>6.00</td>\n",
       "      <td>8.130000</td>\n",
       "      <td>6.54</td>\n",
       "    </tr>\n",
       "    <tr>\n",
       "      <th>5</th>\n",
       "      <td>2020</td>\n",
       "      <td>NIT Arunachal Pradesh</td>\n",
       "      <td>6.20</td>\n",
       "      <td>7.20</td>\n",
       "      <td>7.20</td>\n",
       "      <td>7.20</td>\n",
       "      <td>7.20</td>\n",
       "      <td>8.770000</td>\n",
       "      <td>7.20</td>\n",
       "    </tr>\n",
       "    <tr>\n",
       "      <th>6</th>\n",
       "      <td>2020</td>\n",
       "      <td>NIT Calicut</td>\n",
       "      <td>17.68</td>\n",
       "      <td>17.68</td>\n",
       "      <td>12.11</td>\n",
       "      <td>12.11</td>\n",
       "      <td>8.00</td>\n",
       "      <td>10.680000</td>\n",
       "      <td>12.00</td>\n",
       "    </tr>\n",
       "    <tr>\n",
       "      <th>7</th>\n",
       "      <td>2020</td>\n",
       "      <td>NIT Delhi</td>\n",
       "      <td>8.80</td>\n",
       "      <td>11.20</td>\n",
       "      <td>9.00</td>\n",
       "      <td>6.40</td>\n",
       "      <td>8.80</td>\n",
       "      <td>7.736462</td>\n",
       "      <td>15.59</td>\n",
       "    </tr>\n",
       "    <tr>\n",
       "      <th>8</th>\n",
       "      <td>2020</td>\n",
       "      <td>NIT Durgapur</td>\n",
       "      <td>8.00</td>\n",
       "      <td>21.45</td>\n",
       "      <td>17.49</td>\n",
       "      <td>14.61</td>\n",
       "      <td>9.72</td>\n",
       "      <td>8.870000</td>\n",
       "      <td>8.00</td>\n",
       "    </tr>\n",
       "    <tr>\n",
       "      <th>9</th>\n",
       "      <td>2020</td>\n",
       "      <td>NIT Goa</td>\n",
       "      <td>10.87</td>\n",
       "      <td>9.95</td>\n",
       "      <td>8.50</td>\n",
       "      <td>7.56</td>\n",
       "      <td>6.63</td>\n",
       "      <td>9.556289</td>\n",
       "      <td>5.83</td>\n",
       "    </tr>\n",
       "  </tbody>\n",
       "</table>\n",
       "</div>"
      ],
      "text/plain": [
       "   year         institute_name  overall_avg_ctc  cse_avg_ctc  ece_avg_ctc  \\\n",
       "0  2020          IIEST Shibpur             7.30         9.50        16.50   \n",
       "1  2020            MNIT Jaipur             9.10        18.39         9.10   \n",
       "2  2020        MNNIT Allahabad            17.19        17.68        11.00   \n",
       "3  2020           NIT Agartala             6.95        14.71        13.83   \n",
       "4  2020     NIT Andhra Pradesh             6.54        10.70         6.29   \n",
       "5  2020  NIT Arunachal Pradesh             6.20         7.20         7.20   \n",
       "6  2020            NIT Calicut            17.68        17.68        12.11   \n",
       "7  2020              NIT Delhi             8.80        11.20         9.00   \n",
       "8  2020           NIT Durgapur             8.00        21.45        17.49   \n",
       "9  2020                NIT Goa            10.87         9.95         8.50   \n",
       "\n",
       "   ee_avg_ctc  me_avg_ctc  chemical_avg_ctc  civil_avg_ctc  \n",
       "0        8.00        7.30          6.417747           5.75  \n",
       "1        9.94       13.20         10.350000           6.00  \n",
       "2       17.68       17.68          9.000000           6.54  \n",
       "3       15.00        6.50          7.000000           6.95  \n",
       "4        6.54        6.00          8.130000           6.54  \n",
       "5        7.20        7.20          8.770000           7.20  \n",
       "6       12.11        8.00         10.680000          12.00  \n",
       "7        6.40        8.80          7.736462          15.59  \n",
       "8       14.61        9.72          8.870000           8.00  \n",
       "9        7.56        6.63          9.556289           5.83  "
      ]
     },
     "execution_count": 37,
     "metadata": {},
     "output_type": "execute_result"
    }
   ],
   "source": [
    "df_nit.head(10)"
   ]
  },
  {
   "cell_type": "code",
   "execution_count": 38,
   "id": "80440a95",
   "metadata": {},
   "outputs": [
    {
     "data": {
      "text/plain": [
       "(150, 9)"
      ]
     },
     "execution_count": 38,
     "metadata": {},
     "output_type": "execute_result"
    }
   ],
   "source": [
    "df_nit.shape"
   ]
  },
  {
   "cell_type": "code",
   "execution_count": 40,
   "id": "1078a9c3",
   "metadata": {},
   "outputs": [],
   "source": [
    "# export the cleaned nit placement csv\n",
    "df_nit.to_csv('/Users/anuragchaubey/smart-college-recommender/data/cleaned/nit_placement_cleaned.csv', index=False)"
   ]
  }
 ],
 "metadata": {
  "kernelspec": {
   "display_name": "Python 3",
   "language": "python",
   "name": "python3"
  },
  "language_info": {
   "codemirror_mode": {
    "name": "ipython",
    "version": 3
   },
   "file_extension": ".py",
   "mimetype": "text/x-python",
   "name": "python",
   "nbconvert_exporter": "python",
   "pygments_lexer": "ipython3",
   "version": "3.12.5"
  }
 },
 "nbformat": 4,
 "nbformat_minor": 5
}
