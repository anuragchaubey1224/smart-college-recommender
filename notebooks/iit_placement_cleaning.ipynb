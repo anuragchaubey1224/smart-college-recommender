{
 "cells": [
  {
   "cell_type": "markdown",
   "id": "8d6cc58f",
   "metadata": {},
   "source": [
    "# data preprocessing and cleaning ( IIT placement data)"
   ]
  },
  {
   "cell_type": "code",
   "execution_count": 61,
   "id": "4d8cfcab",
   "metadata": {},
   "outputs": [],
   "source": [
    "import numpy as np\n",
    "import pandas as pd\n",
    "import matplotlib.pyplot as plt\n",
    "import seaborn as sns"
   ]
  },
  {
   "cell_type": "code",
   "execution_count": 62,
   "id": "c668b308",
   "metadata": {},
   "outputs": [
    {
     "data": {
      "text/html": [
       "<div>\n",
       "<style scoped>\n",
       "    .dataframe tbody tr th:only-of-type {\n",
       "        vertical-align: middle;\n",
       "    }\n",
       "\n",
       "    .dataframe tbody tr th {\n",
       "        vertical-align: top;\n",
       "    }\n",
       "\n",
       "    .dataframe thead th {\n",
       "        text-align: right;\n",
       "    }\n",
       "</style>\n",
       "<table border=\"1\" class=\"dataframe\">\n",
       "  <thead>\n",
       "    <tr style=\"text-align: right;\">\n",
       "      <th></th>\n",
       "      <th>Year</th>\n",
       "      <th>IIT Name</th>\n",
       "      <th>Overall Avg CTC (LPA)</th>\n",
       "      <th>CSE Avg (LPA)</th>\n",
       "      <th>ECE Avg (LPA)</th>\n",
       "      <th>EE Avg (LPA)</th>\n",
       "      <th>ME Avg (LPA)</th>\n",
       "      <th>Civil Avg (LPA)</th>\n",
       "      <th>Chemical Avg (LPA)</th>\n",
       "    </tr>\n",
       "  </thead>\n",
       "  <tbody>\n",
       "    <tr>\n",
       "      <th>0</th>\n",
       "      <td>2020.0</td>\n",
       "      <td>IIT Bombay</td>\n",
       "      <td>20.08</td>\n",
       "      <td>20.08</td>\n",
       "      <td>17.91</td>\n",
       "      <td>20.08</td>\n",
       "      <td>20.65</td>\n",
       "      <td>Not Available</td>\n",
       "      <td>Not Available</td>\n",
       "    </tr>\n",
       "    <tr>\n",
       "      <th>1</th>\n",
       "      <td>2020.0</td>\n",
       "      <td>IIT Madras</td>\n",
       "      <td>18.12</td>\n",
       "      <td>25</td>\n",
       "      <td>18.12</td>\n",
       "      <td>27.28</td>\n",
       "      <td>18.12</td>\n",
       "      <td>11.51</td>\n",
       "      <td>Not Available</td>\n",
       "    </tr>\n",
       "    <tr>\n",
       "      <th>2</th>\n",
       "      <td>2020.0</td>\n",
       "      <td>IIT Kanpur</td>\n",
       "      <td>11.02</td>\n",
       "      <td>11.02</td>\n",
       "      <td>11.02</td>\n",
       "      <td>27.60</td>\n",
       "      <td>7.50</td>\n",
       "      <td>7.5</td>\n",
       "      <td>Not Available</td>\n",
       "    </tr>\n",
       "    <tr>\n",
       "      <th>3</th>\n",
       "      <td>2020.0</td>\n",
       "      <td>IIT Kharagpur</td>\n",
       "      <td>19.00</td>\n",
       "      <td>29.21</td>\n",
       "      <td>20</td>\n",
       "      <td>19.50</td>\n",
       "      <td>16.00</td>\n",
       "      <td>14.1</td>\n",
       "      <td>Not Available</td>\n",
       "    </tr>\n",
       "    <tr>\n",
       "      <th>4</th>\n",
       "      <td>2020.0</td>\n",
       "      <td>IIT Roorkee</td>\n",
       "      <td>16.00</td>\n",
       "      <td>18</td>\n",
       "      <td>15.5</td>\n",
       "      <td>13.12</td>\n",
       "      <td>10.33</td>\n",
       "      <td>Not Available</td>\n",
       "      <td>Not Available</td>\n",
       "    </tr>\n",
       "  </tbody>\n",
       "</table>\n",
       "</div>"
      ],
      "text/plain": [
       "     Year       IIT Name  Overall Avg CTC (LPA) CSE Avg (LPA) ECE Avg (LPA)  \\\n",
       "0  2020.0     IIT Bombay                  20.08         20.08         17.91   \n",
       "1  2020.0     IIT Madras                  18.12            25         18.12   \n",
       "2  2020.0     IIT Kanpur                  11.02         11.02         11.02   \n",
       "3  2020.0  IIT Kharagpur                  19.00         29.21            20   \n",
       "4  2020.0    IIT Roorkee                  16.00            18          15.5   \n",
       "\n",
       "   EE Avg (LPA)  ME Avg (LPA) Civil Avg (LPA) Chemical Avg (LPA)  \n",
       "0         20.08         20.65   Not Available      Not Available  \n",
       "1         27.28         18.12           11.51      Not Available  \n",
       "2         27.60          7.50             7.5      Not Available  \n",
       "3         19.50         16.00            14.1      Not Available  \n",
       "4         13.12         10.33   Not Available      Not Available  "
      ]
     },
     "execution_count": 62,
     "metadata": {},
     "output_type": "execute_result"
    }
   ],
   "source": [
    "df_iit = pd.read_csv(\"/Users/anuragchaubey/smart-college-recommender/data/iit_placement.csv\")\n",
    "df_iit.head(5)"
   ]
  },
  {
   "cell_type": "code",
   "execution_count": 63,
   "id": "a01bdd48",
   "metadata": {},
   "outputs": [],
   "source": [
    "# replace column names\n",
    "df_iit.rename(columns={\n",
    "    'IIT Name': 'institute_name',\n",
    "    'Year' : 'year',\n",
    "    'Overall Avg CTC (LPA)': 'overall_avg_ctc',\n",
    "    'CSE Avg (LPA)': 'cse_avg_ctc',\n",
    "    'ECE Avg (LPA)': 'ece_avg_ctc',\n",
    "    'EE Avg (LPA)': 'ee_avg_ctc',\n",
    "    'ME Avg (LPA)': 'me_avg_ctc',\n",
    "    'Civil Avg (LPA)': 'civil_avg_ctc',\n",
    "    'Chemical Avg (LPA)': 'chemical_avg_ctc'\n",
    "}, inplace=True)"
   ]
  },
  {
   "cell_type": "code",
   "execution_count": 64,
   "id": "310b0328",
   "metadata": {},
   "outputs": [
    {
     "name": "stderr",
     "output_type": "stream",
     "text": [
      "/var/folders/wz/4tdnltpd0j50hb4mv_kk_0140000gn/T/ipykernel_3536/1276220952.py:2: FutureWarning: Downcasting behavior in `replace` is deprecated and will be removed in a future version. To retain the old behavior, explicitly call `result.infer_objects(copy=False)`. To opt-in to the future behavior, set `pd.set_option('future.no_silent_downcasting', True)`\n",
      "  df_iit.replace(\"Not Available\", np.nan, inplace=True)\n"
     ]
    }
   ],
   "source": [
    "# replace all 'Not Available' strings with np.nan\n",
    "df_iit.replace(\"Not Available\", np.nan, inplace=True)"
   ]
  },
  {
   "cell_type": "code",
   "execution_count": 65,
   "id": "e57fcd35",
   "metadata": {},
   "outputs": [],
   "source": [
    "# trim whitespaces from institute_name\n",
    "df_iit['institute_name'] = df_iit['institute_name'].str.strip()"
   ]
  },
  {
   "cell_type": "code",
   "execution_count": 66,
   "id": "dfb42b20",
   "metadata": {},
   "outputs": [
    {
     "data": {
      "text/plain": [
       "year                  4\n",
       "institute_name        4\n",
       "overall_avg_ctc       6\n",
       "cse_avg_ctc           6\n",
       "ece_avg_ctc           7\n",
       "ee_avg_ctc            8\n",
       "me_avg_ctc            4\n",
       "civil_avg_ctc       107\n",
       "chemical_avg_ctc    119\n",
       "dtype: int64"
      ]
     },
     "execution_count": 66,
     "metadata": {},
     "output_type": "execute_result"
    }
   ],
   "source": [
    "df_iit.isnull().sum()"
   ]
  },
  {
   "cell_type": "code",
   "execution_count": 72,
   "id": "7bc41b48",
   "metadata": {},
   "outputs": [
    {
     "name": "stdout",
     "output_type": "stream",
     "text": [
      "<class 'pandas.core.frame.DataFrame'>\n",
      "RangeIndex: 119 entries, 0 to 118\n",
      "Data columns (total 9 columns):\n",
      " #   Column            Non-Null Count  Dtype  \n",
      "---  ------            --------------  -----  \n",
      " 0   year              115 non-null    Int64  \n",
      " 1   institute_name    115 non-null    object \n",
      " 2   overall_avg_ctc   113 non-null    float64\n",
      " 3   cse_avg_ctc       110 non-null    float64\n",
      " 4   ece_avg_ctc       111 non-null    float64\n",
      " 5   ee_avg_ctc        111 non-null    float64\n",
      " 6   me_avg_ctc        115 non-null    float64\n",
      " 7   civil_avg_ctc     12 non-null     float64\n",
      " 8   chemical_avg_ctc  0 non-null      float64\n",
      "dtypes: Int64(1), float64(7), object(1)\n",
      "memory usage: 8.6+ KB\n"
     ]
    }
   ],
   "source": [
    "df_iit.info()"
   ]
  },
  {
   "cell_type": "code",
   "execution_count": 71,
   "id": "b4b47b7a",
   "metadata": {},
   "outputs": [],
   "source": [
    "# convert all columns to numeric except year and institute_name\n",
    "cols_to_convert = df_iit.columns.difference(['Year', 'institute_name'])\n",
    "df_iit[cols_to_convert] = df_iit[cols_to_convert].apply(pd.to_numeric, errors='coerce')"
   ]
  },
  {
   "cell_type": "code",
   "execution_count": 69,
   "id": "863a43aa",
   "metadata": {},
   "outputs": [],
   "source": [
    "# convert year to int data type\n",
    "df_iit['year'] = df_iit['year'].astype('Int64')"
   ]
  },
  {
   "cell_type": "code",
   "execution_count": 73,
   "id": "45d19d53",
   "metadata": {},
   "outputs": [],
   "source": [
    "# remove fully blank rows\n",
    "df_iit.dropna(how='all', inplace=True)"
   ]
  },
  {
   "cell_type": "code",
   "execution_count": 74,
   "id": "3247bffb",
   "metadata": {},
   "outputs": [
    {
     "name": "stdout",
     "output_type": "stream",
     "text": [
      "overall_avg_ctc       2\n",
      "cse_avg_ctc           5\n",
      "ece_avg_ctc           4\n",
      "ee_avg_ctc            4\n",
      "civil_avg_ctc       103\n",
      "chemical_avg_ctc    115\n",
      "dtype: int64\n"
     ]
    }
   ],
   "source": [
    "# check missing values\n",
    "missing_values = df_iit.isnull().sum()\n",
    "print(missing_values[missing_values > 0])"
   ]
  },
  {
   "cell_type": "code",
   "execution_count": 70,
   "id": "cd975c69",
   "metadata": {},
   "outputs": [
    {
     "data": {
      "text/html": [
       "<div>\n",
       "<style scoped>\n",
       "    .dataframe tbody tr th:only-of-type {\n",
       "        vertical-align: middle;\n",
       "    }\n",
       "\n",
       "    .dataframe tbody tr th {\n",
       "        vertical-align: top;\n",
       "    }\n",
       "\n",
       "    .dataframe thead th {\n",
       "        text-align: right;\n",
       "    }\n",
       "</style>\n",
       "<table border=\"1\" class=\"dataframe\">\n",
       "  <thead>\n",
       "    <tr style=\"text-align: right;\">\n",
       "      <th></th>\n",
       "      <th>year</th>\n",
       "      <th>institute_name</th>\n",
       "      <th>overall_avg_ctc</th>\n",
       "      <th>cse_avg_ctc</th>\n",
       "      <th>ece_avg_ctc</th>\n",
       "      <th>ee_avg_ctc</th>\n",
       "      <th>me_avg_ctc</th>\n",
       "      <th>civil_avg_ctc</th>\n",
       "      <th>chemical_avg_ctc</th>\n",
       "    </tr>\n",
       "  </thead>\n",
       "  <tbody>\n",
       "    <tr>\n",
       "      <th>0</th>\n",
       "      <td>2020</td>\n",
       "      <td>IIT Bombay</td>\n",
       "      <td>20.08</td>\n",
       "      <td>20.08</td>\n",
       "      <td>17.91</td>\n",
       "      <td>20.08</td>\n",
       "      <td>20.65</td>\n",
       "      <td>NaN</td>\n",
       "      <td>NaN</td>\n",
       "    </tr>\n",
       "    <tr>\n",
       "      <th>1</th>\n",
       "      <td>2020</td>\n",
       "      <td>IIT Madras</td>\n",
       "      <td>18.12</td>\n",
       "      <td>25.00</td>\n",
       "      <td>18.12</td>\n",
       "      <td>27.28</td>\n",
       "      <td>18.12</td>\n",
       "      <td>11.51</td>\n",
       "      <td>NaN</td>\n",
       "    </tr>\n",
       "    <tr>\n",
       "      <th>2</th>\n",
       "      <td>2020</td>\n",
       "      <td>IIT Kanpur</td>\n",
       "      <td>11.02</td>\n",
       "      <td>11.02</td>\n",
       "      <td>11.02</td>\n",
       "      <td>27.60</td>\n",
       "      <td>7.50</td>\n",
       "      <td>7.50</td>\n",
       "      <td>NaN</td>\n",
       "    </tr>\n",
       "    <tr>\n",
       "      <th>3</th>\n",
       "      <td>2020</td>\n",
       "      <td>IIT Kharagpur</td>\n",
       "      <td>19.00</td>\n",
       "      <td>29.21</td>\n",
       "      <td>20.00</td>\n",
       "      <td>19.50</td>\n",
       "      <td>16.00</td>\n",
       "      <td>14.10</td>\n",
       "      <td>NaN</td>\n",
       "    </tr>\n",
       "    <tr>\n",
       "      <th>4</th>\n",
       "      <td>2020</td>\n",
       "      <td>IIT Roorkee</td>\n",
       "      <td>16.00</td>\n",
       "      <td>18.00</td>\n",
       "      <td>15.50</td>\n",
       "      <td>13.12</td>\n",
       "      <td>10.33</td>\n",
       "      <td>NaN</td>\n",
       "      <td>NaN</td>\n",
       "    </tr>\n",
       "  </tbody>\n",
       "</table>\n",
       "</div>"
      ],
      "text/plain": [
       "   year institute_name  overall_avg_ctc  cse_avg_ctc  ece_avg_ctc  ee_avg_ctc  \\\n",
       "0  2020     IIT Bombay            20.08        20.08        17.91       20.08   \n",
       "1  2020     IIT Madras            18.12        25.00        18.12       27.28   \n",
       "2  2020     IIT Kanpur            11.02        11.02        11.02       27.60   \n",
       "3  2020  IIT Kharagpur            19.00        29.21        20.00       19.50   \n",
       "4  2020    IIT Roorkee            16.00        18.00        15.50       13.12   \n",
       "\n",
       "   me_avg_ctc  civil_avg_ctc  chemical_avg_ctc  \n",
       "0       20.65            NaN               NaN  \n",
       "1       18.12          11.51               NaN  \n",
       "2        7.50           7.50               NaN  \n",
       "3       16.00          14.10               NaN  \n",
       "4       10.33            NaN               NaN  "
      ]
     },
     "execution_count": 70,
     "metadata": {},
     "output_type": "execute_result"
    }
   ],
   "source": [
    "df_iit.head()"
   ]
  },
  {
   "cell_type": "markdown",
   "id": "3dd039a6",
   "metadata": {},
   "source": [
    "# handle missing values "
   ]
  },
  {
   "cell_type": "code",
   "execution_count": 76,
   "id": "50b2c607",
   "metadata": {},
   "outputs": [],
   "source": [
    "# fill missing values in overall_avg_ctc\n",
    "\n",
    "# fill with data from forward or backward\n",
    "df_iit['overall_avg_ctc'] = (\n",
    "    df_iit.groupby('institute_name')['overall_avg_ctc']\n",
    "          .transform(lambda x: x.ffill().bfill())\n",
    ")\n",
    "\n",
    "# if still left fill with overall mean\n",
    "mean_overall = df_iit['overall_avg_ctc'].mean()\n",
    "df_iit['overall_avg_ctc'] = df_iit['overall_avg_ctc'].fillna(mean_overall)\n"
   ]
  },
  {
   "cell_type": "code",
   "execution_count": 77,
   "id": "06c4ebe6",
   "metadata": {},
   "outputs": [
    {
     "data": {
      "text/plain": [
       "np.int64(0)"
      ]
     },
     "execution_count": 77,
     "metadata": {},
     "output_type": "execute_result"
    }
   ],
   "source": [
    "df_iit['overall_avg_ctc'].isnull().sum()"
   ]
  },
  {
   "cell_type": "code",
   "execution_count": 78,
   "id": "36d51f2e",
   "metadata": {},
   "outputs": [
    {
     "name": "stdout",
     "output_type": "stream",
     "text": [
      "Average CSE to Overall ratio: 1.2703877496291083\n"
     ]
    }
   ],
   "source": [
    "# filling missing values (cse_avg_ctc)\n",
    "\n",
    "# fill with other cse data from same college\n",
    "df_iit['cse_avg_ctc'] = (\n",
    "    df_iit.groupby('institute_name')['cse_avg_ctc']\n",
    "          .transform(lambda x: x.ffill().bfill())\n",
    ")\n",
    "\n",
    "# fill with correlation method (remaining)\n",
    "cse_ratio = (df_iit['cse_avg_ctc'] / df_iit['overall_avg_ctc']).mean()\n",
    "print(\"Average CSE to Overall ratio:\", cse_ratio)\n",
    "\n",
    "df_iit['cse_avg_ctc'] = df_iit['cse_avg_ctc'].fillna(\n",
    "    df_iit['overall_avg_ctc'] * cse_ratio\n",
    ")"
   ]
  },
  {
   "cell_type": "code",
   "execution_count": 79,
   "id": "36a22eb7",
   "metadata": {},
   "outputs": [
    {
     "data": {
      "text/plain": [
       "np.int64(0)"
      ]
     },
     "execution_count": 79,
     "metadata": {},
     "output_type": "execute_result"
    }
   ],
   "source": [
    "df_iit['cse_avg_ctc'].isnull().sum()"
   ]
  },
  {
   "cell_type": "code",
   "execution_count": 80,
   "id": "707cb72d",
   "metadata": {},
   "outputs": [
    {
     "name": "stdout",
     "output_type": "stream",
     "text": [
      "Avg ECE to Overall Ratio: 1.037341911412858\n"
     ]
    }
   ],
   "source": [
    "# filling missing values  (ece_avg_ctc)\n",
    "\n",
    "# forward , backward filling\n",
    "df_iit['ece_avg_ctc'] = (\n",
    "    df_iit.groupby('institute_name')['ece_avg_ctc']\n",
    "          .transform(lambda x: x.ffill().bfill())\n",
    ")\n",
    "\n",
    "# fill remaining values. ( using correlation method)\n",
    "ece_ratio = (df_iit['ece_avg_ctc'] / df_iit['overall_avg_ctc']).mean()\n",
    "print(\"Avg ECE to Overall Ratio:\", ece_ratio)\n",
    "\n",
    "df_iit['ece_avg_ctc'] = df_iit['ece_avg_ctc'].fillna(\n",
    "    df_iit['overall_avg_ctc'] * ece_ratio\n",
    ")"
   ]
  },
  {
   "cell_type": "code",
   "execution_count": 81,
   "id": "9bcad4bb",
   "metadata": {},
   "outputs": [
    {
     "data": {
      "text/plain": [
       "np.int64(0)"
      ]
     },
     "execution_count": 81,
     "metadata": {},
     "output_type": "execute_result"
    }
   ],
   "source": [
    "df_iit['ece_avg_ctc'].isnull().sum()"
   ]
  },
  {
   "cell_type": "code",
   "execution_count": 82,
   "id": "4be7d2db",
   "metadata": {},
   "outputs": [
    {
     "name": "stdout",
     "output_type": "stream",
     "text": [
      "EE to Overall Ratio: 1.138351042431576\n"
     ]
    }
   ],
   "source": [
    "# filling missing values  (ee_avg_ctc)\n",
    "\n",
    "# forward , backward filling\n",
    "df_iit['ee_avg_ctc'] = (\n",
    "    df_iit.groupby('institute_name')['ee_avg_ctc']\n",
    "          .transform(lambda x: x.ffill().bfill())\n",
    ")\n",
    "\n",
    "# fill remaining values (correlation method)\n",
    "ee_ratio = (df_iit['ee_avg_ctc'] / df_iit['overall_avg_ctc']).mean()\n",
    "print(\"EE to Overall Ratio:\", ee_ratio)\n",
    "\n",
    "df_iit['ee_avg_ctc'] = df_iit['ee_avg_ctc'].fillna(\n",
    "    df_iit['overall_avg_ctc'] * ee_ratio\n",
    ")"
   ]
  },
  {
   "cell_type": "code",
   "execution_count": 83,
   "id": "0c425d32",
   "metadata": {},
   "outputs": [
    {
     "data": {
      "text/plain": [
       "np.int64(0)"
      ]
     },
     "execution_count": 83,
     "metadata": {},
     "output_type": "execute_result"
    }
   ],
   "source": [
    "df_iit['ee_avg_ctc'].isnull().sum()"
   ]
  },
  {
   "cell_type": "code",
   "execution_count": 84,
   "id": "f097aeac",
   "metadata": {},
   "outputs": [],
   "source": [
    "# drop columns civil_avg_ctc and chemical_aavg_ctc (high % missing values)\n",
    "\n",
    "df_iit.drop(['civil_avg_ctc', 'chemical_avg_ctc'], axis=1, inplace=True)"
   ]
  },
  {
   "cell_type": "code",
   "execution_count": 85,
   "id": "b74ff342",
   "metadata": {},
   "outputs": [],
   "source": [
    "# sort the data on the basis of year and institute_name\n",
    "df_iit = df_iit.sort_values(by=['year', 'institute_name']).reset_index(drop=True)"
   ]
  },
  {
   "cell_type": "code",
   "execution_count": 86,
   "id": "f586c9ac",
   "metadata": {},
   "outputs": [
    {
     "name": "stdout",
     "output_type": "stream",
     "text": [
      "<class 'pandas.core.frame.DataFrame'>\n",
      "RangeIndex: 115 entries, 0 to 114\n",
      "Data columns (total 7 columns):\n",
      " #   Column           Non-Null Count  Dtype  \n",
      "---  ------           --------------  -----  \n",
      " 0   year             115 non-null    Int64  \n",
      " 1   institute_name   115 non-null    object \n",
      " 2   overall_avg_ctc  115 non-null    float64\n",
      " 3   cse_avg_ctc      115 non-null    float64\n",
      " 4   ece_avg_ctc      115 non-null    float64\n",
      " 5   ee_avg_ctc       115 non-null    float64\n",
      " 6   me_avg_ctc       115 non-null    float64\n",
      "dtypes: Int64(1), float64(5), object(1)\n",
      "memory usage: 6.5+ KB\n"
     ]
    }
   ],
   "source": [
    "df_iit.info()"
   ]
  },
  {
   "cell_type": "code",
   "execution_count": 87,
   "id": "5e0c0084",
   "metadata": {},
   "outputs": [
    {
     "data": {
      "text/plain": [
       "year               0\n",
       "institute_name     0\n",
       "overall_avg_ctc    0\n",
       "cse_avg_ctc        0\n",
       "ece_avg_ctc        0\n",
       "ee_avg_ctc         0\n",
       "me_avg_ctc         0\n",
       "dtype: int64"
      ]
     },
     "execution_count": 87,
     "metadata": {},
     "output_type": "execute_result"
    }
   ],
   "source": [
    "df_iit.isnull().sum()"
   ]
  },
  {
   "cell_type": "code",
   "execution_count": 88,
   "id": "4ca225c4",
   "metadata": {},
   "outputs": [
    {
     "data": {
      "text/plain": [
       "(115, 7)"
      ]
     },
     "execution_count": 88,
     "metadata": {},
     "output_type": "execute_result"
    }
   ],
   "source": [
    "df_iit.shape"
   ]
  },
  {
   "cell_type": "code",
   "execution_count": 89,
   "id": "95078824",
   "metadata": {},
   "outputs": [
    {
     "data": {
      "text/html": [
       "<div>\n",
       "<style scoped>\n",
       "    .dataframe tbody tr th:only-of-type {\n",
       "        vertical-align: middle;\n",
       "    }\n",
       "\n",
       "    .dataframe tbody tr th {\n",
       "        vertical-align: top;\n",
       "    }\n",
       "\n",
       "    .dataframe thead th {\n",
       "        text-align: right;\n",
       "    }\n",
       "</style>\n",
       "<table border=\"1\" class=\"dataframe\">\n",
       "  <thead>\n",
       "    <tr style=\"text-align: right;\">\n",
       "      <th></th>\n",
       "      <th>year</th>\n",
       "      <th>institute_name</th>\n",
       "      <th>overall_avg_ctc</th>\n",
       "      <th>cse_avg_ctc</th>\n",
       "      <th>ece_avg_ctc</th>\n",
       "      <th>ee_avg_ctc</th>\n",
       "      <th>me_avg_ctc</th>\n",
       "    </tr>\n",
       "  </thead>\n",
       "  <tbody>\n",
       "    <tr>\n",
       "      <th>76</th>\n",
       "      <td>2023</td>\n",
       "      <td>IIT Goa</td>\n",
       "      <td>17.19</td>\n",
       "      <td>21.52</td>\n",
       "      <td>16.99</td>\n",
       "      <td>16.99</td>\n",
       "      <td>14.76</td>\n",
       "    </tr>\n",
       "    <tr>\n",
       "      <th>26</th>\n",
       "      <td>2021</td>\n",
       "      <td>IIT Delhi</td>\n",
       "      <td>17.60</td>\n",
       "      <td>17.81</td>\n",
       "      <td>17.60</td>\n",
       "      <td>17.60</td>\n",
       "      <td>17.60</td>\n",
       "    </tr>\n",
       "    <tr>\n",
       "      <th>68</th>\n",
       "      <td>2022</td>\n",
       "      <td>IIT Varanasi</td>\n",
       "      <td>21.89</td>\n",
       "      <td>21.89</td>\n",
       "      <td>27.50</td>\n",
       "      <td>26.57</td>\n",
       "      <td>21.89</td>\n",
       "    </tr>\n",
       "    <tr>\n",
       "      <th>35</th>\n",
       "      <td>2021</td>\n",
       "      <td>IIT Jodhpur</td>\n",
       "      <td>24.38</td>\n",
       "      <td>12.00</td>\n",
       "      <td>12.00</td>\n",
       "      <td>12.00</td>\n",
       "      <td>12.00</td>\n",
       "    </tr>\n",
       "    <tr>\n",
       "      <th>21</th>\n",
       "      <td>2020</td>\n",
       "      <td>IIT Tirupati</td>\n",
       "      <td>11.00</td>\n",
       "      <td>14.00</td>\n",
       "      <td>11.00</td>\n",
       "      <td>14.00</td>\n",
       "      <td>10.95</td>\n",
       "    </tr>\n",
       "  </tbody>\n",
       "</table>\n",
       "</div>"
      ],
      "text/plain": [
       "    year institute_name  overall_avg_ctc  cse_avg_ctc  ece_avg_ctc  \\\n",
       "76  2023        IIT Goa            17.19        21.52        16.99   \n",
       "26  2021      IIT Delhi            17.60        17.81        17.60   \n",
       "68  2022   IIT Varanasi            21.89        21.89        27.50   \n",
       "35  2021    IIT Jodhpur            24.38        12.00        12.00   \n",
       "21  2020   IIT Tirupati            11.00        14.00        11.00   \n",
       "\n",
       "    ee_avg_ctc  me_avg_ctc  \n",
       "76       16.99       14.76  \n",
       "26       17.60       17.60  \n",
       "68       26.57       21.89  \n",
       "35       12.00       12.00  \n",
       "21       14.00       10.95  "
      ]
     },
     "execution_count": 89,
     "metadata": {},
     "output_type": "execute_result"
    }
   ],
   "source": [
    "df_iit.sample(5)"
   ]
  },
  {
   "cell_type": "code",
   "execution_count": 90,
   "id": "32d61c4f",
   "metadata": {},
   "outputs": [],
   "source": [
    "df_iit.to_csv('/Users/anuragchaubey/smart-college-recommender/data/cleaned/iit_placement_cleaned.csv', index=False)\n"
   ]
  }
 ],
 "metadata": {
  "kernelspec": {
   "display_name": "Python 3",
   "language": "python",
   "name": "python3"
  },
  "language_info": {
   "codemirror_mode": {
    "name": "ipython",
    "version": 3
   },
   "file_extension": ".py",
   "mimetype": "text/x-python",
   "name": "python",
   "nbconvert_exporter": "python",
   "pygments_lexer": "ipython3",
   "version": "3.12.5"
  }
 },
 "nbformat": 4,
 "nbformat_minor": 5
}
