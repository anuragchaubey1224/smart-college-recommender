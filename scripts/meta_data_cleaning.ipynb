{
 "cells": [
  {
   "cell_type": "markdown",
   "id": "da7a3e60",
   "metadata": {},
   "source": [
    "# data preprocessing (meta data of colleges)"
   ]
  },
  {
   "cell_type": "code",
   "execution_count": 160,
   "id": "51736e73",
   "metadata": {},
   "outputs": [],
   "source": [
    "import numpy as np\n",
    "import pandas as pd"
   ]
  },
  {
   "cell_type": "code",
   "execution_count": 161,
   "id": "d2597eb6",
   "metadata": {},
   "outputs": [
    {
     "name": "stdout",
     "output_type": "stream",
     "text": [
      "shape of data :  (83, 10)\n",
      "columns of data :  Index(['institute_name', 'institute_type', 'city', 'state', 'city_tier',\n",
      "       'total_fee_4yr', 'total_fee_5yr', 'hostel_available', 'campus_area',\n",
      "       'infra_rating'],\n",
      "      dtype='object')\n"
     ]
    },
    {
     "data": {
      "text/html": [
       "<div>\n",
       "<style scoped>\n",
       "    .dataframe tbody tr th:only-of-type {\n",
       "        vertical-align: middle;\n",
       "    }\n",
       "\n",
       "    .dataframe tbody tr th {\n",
       "        vertical-align: top;\n",
       "    }\n",
       "\n",
       "    .dataframe thead th {\n",
       "        text-align: right;\n",
       "    }\n",
       "</style>\n",
       "<table border=\"1\" class=\"dataframe\">\n",
       "  <thead>\n",
       "    <tr style=\"text-align: right;\">\n",
       "      <th></th>\n",
       "      <th>institute_name</th>\n",
       "      <th>institute_type</th>\n",
       "      <th>city</th>\n",
       "      <th>state</th>\n",
       "      <th>city_tier</th>\n",
       "      <th>total_fee_4yr</th>\n",
       "      <th>total_fee_5yr</th>\n",
       "      <th>hostel_available</th>\n",
       "      <th>campus_area</th>\n",
       "      <th>infra_rating</th>\n",
       "    </tr>\n",
       "  </thead>\n",
       "  <tbody>\n",
       "    <tr>\n",
       "      <th>79</th>\n",
       "      <td>IIIT Bhagalpur</td>\n",
       "      <td>IIIT</td>\n",
       "      <td>Bhagalpur</td>\n",
       "      <td>Bihar</td>\n",
       "      <td>3.0</td>\n",
       "      <td>1345000.0</td>\n",
       "      <td>NaN</td>\n",
       "      <td>Y</td>\n",
       "      <td>50</td>\n",
       "      <td>4.3</td>\n",
       "    </tr>\n",
       "    <tr>\n",
       "      <th>16</th>\n",
       "      <td>IIT Palakkad</td>\n",
       "      <td>IIT</td>\n",
       "      <td>Palakkad</td>\n",
       "      <td>Kerala</td>\n",
       "      <td>3.0</td>\n",
       "      <td>905960.0</td>\n",
       "      <td>1000000.0</td>\n",
       "      <td>Y</td>\n",
       "      <td>500.0</td>\n",
       "      <td>4.0</td>\n",
       "    </tr>\n",
       "    <tr>\n",
       "      <th>63</th>\n",
       "      <td>IIITV</td>\n",
       "      <td>IIIT</td>\n",
       "      <td>Vadodara</td>\n",
       "      <td>Gujarat</td>\n",
       "      <td>2.0</td>\n",
       "      <td>1580000.0</td>\n",
       "      <td>NaN</td>\n",
       "      <td>N</td>\n",
       "      <td>under construction</td>\n",
       "      <td>4.4</td>\n",
       "    </tr>\n",
       "    <tr>\n",
       "      <th>61</th>\n",
       "      <td>IIITS</td>\n",
       "      <td>IIIT</td>\n",
       "      <td>Sri City</td>\n",
       "      <td>Andhra Pradesh</td>\n",
       "      <td>3.0</td>\n",
       "      <td>1775000.0</td>\n",
       "      <td>NaN</td>\n",
       "      <td>N</td>\n",
       "      <td>80</td>\n",
       "      <td>4.4</td>\n",
       "    </tr>\n",
       "    <tr>\n",
       "      <th>11</th>\n",
       "      <td>IIT Patna</td>\n",
       "      <td>IIT</td>\n",
       "      <td>Patna</td>\n",
       "      <td>Bihar</td>\n",
       "      <td>2.0</td>\n",
       "      <td>999250.0</td>\n",
       "      <td>1000000.0</td>\n",
       "      <td>Y</td>\n",
       "      <td>501.0</td>\n",
       "      <td>4.2</td>\n",
       "    </tr>\n",
       "  </tbody>\n",
       "</table>\n",
       "</div>"
      ],
      "text/plain": [
       "    institute_name institute_type       city           state  city_tier  \\\n",
       "79  IIIT Bhagalpur           IIIT  Bhagalpur           Bihar        3.0   \n",
       "16    IIT Palakkad            IIT   Palakkad          Kerala        3.0   \n",
       "63           IIITV           IIIT   Vadodara         Gujarat        2.0   \n",
       "61           IIITS           IIIT   Sri City  Andhra Pradesh        3.0   \n",
       "11       IIT Patna            IIT      Patna           Bihar        2.0   \n",
       "\n",
       "    total_fee_4yr  total_fee_5yr hostel_available         campus_area  \\\n",
       "79      1345000.0            NaN                Y                  50   \n",
       "16       905960.0      1000000.0                Y               500.0   \n",
       "63      1580000.0            NaN                N  under construction   \n",
       "61      1775000.0            NaN                N                  80   \n",
       "11       999250.0      1000000.0                Y               501.0   \n",
       "\n",
       "    infra_rating  \n",
       "79           4.3  \n",
       "16           4.0  \n",
       "63           4.4  \n",
       "61           4.4  \n",
       "11           4.2  "
      ]
     },
     "execution_count": 161,
     "metadata": {},
     "output_type": "execute_result"
    }
   ],
   "source": [
    "df = pd.read_csv(\"/Users/anuragchaubey/smart-college-recommender/data/college_metadata.csv\")\n",
    "print(\"shape of data : \",df.shape)\n",
    "print(\"columns of data : \",df.columns)\n",
    "df.sample(5)"
   ]
  },
  {
   "cell_type": "code",
   "execution_count": 162,
   "id": "df263cad",
   "metadata": {},
   "outputs": [],
   "source": [
    "# column name cleaning\n",
    "df.columns = df.columns.str.strip().str.lower().str.replace(' ', '_')"
   ]
  },
  {
   "cell_type": "code",
   "execution_count": 163,
   "id": "71268973",
   "metadata": {},
   "outputs": [
    {
     "data": {
      "text/plain": [
       "Index(['institute_name', 'institute_type', 'city', 'state', 'city_tier',\n",
       "       'total_fee_4yr', 'total_fee_5yr', 'hostel_available', 'campus_area',\n",
       "       'infra_rating'],\n",
       "      dtype='object')"
      ]
     },
     "execution_count": 163,
     "metadata": {},
     "output_type": "execute_result"
    }
   ],
   "source": [
    "df.columns"
   ]
  },
  {
   "cell_type": "code",
   "execution_count": 164,
   "id": "b07344a0",
   "metadata": {},
   "outputs": [],
   "source": [
    "# missing values & \"under construction\" handling in campus_area column\n",
    "df.replace(['under construction', '-', '–', '—', ' '], pd.NA, inplace=True)"
   ]
  },
  {
   "cell_type": "code",
   "execution_count": 165,
   "id": "72aecf5c",
   "metadata": {},
   "outputs": [
    {
     "data": {
      "text/plain": [
       "institute_name       2\n",
       "institute_type       2\n",
       "city                 2\n",
       "state                2\n",
       "city_tier            2\n",
       "total_fee_4yr        2\n",
       "total_fee_5yr       27\n",
       "hostel_available     2\n",
       "campus_area         11\n",
       "infra_rating         2\n",
       "dtype: int64"
      ]
     },
     "execution_count": 165,
     "metadata": {},
     "output_type": "execute_result"
    }
   ],
   "source": [
    "df.isnull().sum()"
   ]
  },
  {
   "cell_type": "code",
   "execution_count": 166,
   "id": "cb958adc",
   "metadata": {},
   "outputs": [],
   "source": [
    "# delete the rows which are totally empty\n",
    "df.dropna(how='all', inplace=True)\n"
   ]
  },
  {
   "cell_type": "code",
   "execution_count": 167,
   "id": "c6cb81da",
   "metadata": {},
   "outputs": [
    {
     "data": {
      "text/plain": [
       "institute_name       0\n",
       "institute_type       0\n",
       "city                 0\n",
       "state                0\n",
       "city_tier            0\n",
       "total_fee_4yr        0\n",
       "total_fee_5yr       25\n",
       "hostel_available     0\n",
       "campus_area          9\n",
       "infra_rating         0\n",
       "dtype: int64"
      ]
     },
     "execution_count": 167,
     "metadata": {},
     "output_type": "execute_result"
    }
   ],
   "source": [
    "df.isnull().sum()"
   ]
  },
  {
   "cell_type": "code",
   "execution_count": 168,
   "id": "c5ead4ff",
   "metadata": {},
   "outputs": [
    {
     "data": {
      "text/plain": [
       "(81, 10)"
      ]
     },
     "execution_count": 168,
     "metadata": {},
     "output_type": "execute_result"
    }
   ],
   "source": [
    "df.shape"
   ]
  },
  {
   "cell_type": "code",
   "execution_count": 169,
   "id": "685d2d2b",
   "metadata": {},
   "outputs": [],
   "source": [
    "# strip extraspaces from text columns\n",
    "text_cols = ['institute_name', 'institute_type', 'city', 'state']\n",
    "for col in text_cols:\n",
    "    df[col] = df[col].str.strip()\n"
   ]
  },
  {
   "cell_type": "markdown",
   "id": "977cb3c3",
   "metadata": {},
   "source": [
    "## handling missing values "
   ]
  },
  {
   "cell_type": "code",
   "execution_count": 170,
   "id": "6cb2600f",
   "metadata": {},
   "outputs": [
    {
     "name": "stderr",
     "output_type": "stream",
     "text": [
      "/var/folders/wz/4tdnltpd0j50hb4mv_kk_0140000gn/T/ipykernel_2554/493401291.py:8: FutureWarning: A value is trying to be set on a copy of a DataFrame or Series through chained assignment using an inplace method.\n",
      "The behavior will change in pandas 3.0. This inplace method will never work because the intermediate object on which we are setting values always behaves as a copy.\n",
      "\n",
      "For example, when doing 'df[col].method(value, inplace=True)', try using 'df.method({col: value}, inplace=True)' or df[col] = df[col].method(value) instead, to perform the operation inplace on the original object.\n",
      "\n",
      "\n",
      "  df['campus_area'].fillna(0,inplace=True)\n"
     ]
    }
   ],
   "source": [
    "# campus_area column\n",
    "\n",
    "# create a new column campus_status\n",
    "df['campus_status'] = df['campus_area'].apply(lambda x: 'Under Construction' if pd.isna(x) else 'Available')\n",
    "df['campus_status'] = df['campus_status'].astype('category')\n",
    "\n",
    "# fill campus_area values with 0\n",
    "df['campus_area'].fillna(0,inplace=True)"
   ]
  },
  {
   "cell_type": "code",
   "execution_count": 171,
   "id": "590fc0cf",
   "metadata": {},
   "outputs": [
    {
     "name": "stderr",
     "output_type": "stream",
     "text": [
      "/var/folders/wz/4tdnltpd0j50hb4mv_kk_0140000gn/T/ipykernel_2554/1997964404.py:8: FutureWarning: A value is trying to be set on a copy of a DataFrame or Series through chained assignment using an inplace method.\n",
      "The behavior will change in pandas 3.0. This inplace method will never work because the intermediate object on which we are setting values always behaves as a copy.\n",
      "\n",
      "For example, when doing 'df[col].method(value, inplace=True)', try using 'df.method({col: value}, inplace=True)' or df[col] = df[col].method(value) instead, to perform the operation inplace on the original object.\n",
      "\n",
      "\n",
      "  df['total_fee_5yr'].fillna(0,inplace=True)\n"
     ]
    }
   ],
   "source": [
    "# total_fee_5yr column\n",
    "\n",
    "# add a new column to check availability of 5 yr program\n",
    "df['offers_5yr_program'] = df['total_fee_5yr'].notna()\n",
    "df['offers_5yr_program'] = df['offers_5yr_program'].astype(bool)\n",
    "\n",
    "# fill total_fee_5yr values with 0\n",
    "df['total_fee_5yr'].fillna(0,inplace=True)\n"
   ]
  },
  {
   "cell_type": "code",
   "execution_count": 172,
   "id": "07eedf1a",
   "metadata": {},
   "outputs": [],
   "source": [
    "# convert given columns to their respective data types\n",
    "\n",
    "# float type\n",
    "df['campus_area'] = pd.to_numeric(df['campus_area'], errors='coerce')\n",
    "\n",
    "# bool type\n",
    "df['hostel_available'] = df['hostel_available'].map({'Y': True, 'N': False})\n",
    "\n",
    "# int type\n",
    "df['total_fee_4yr'] = df['total_fee_4yr'].astype(int)\n",
    "df['city_tier'] = df['city_tier'].astype(int)\n",
    "\n",
    "# category type\n",
    "df['institute_type'] = df['institute_type'].astype('category')"
   ]
  },
  {
   "cell_type": "code",
   "execution_count": 173,
   "id": "575518ce",
   "metadata": {},
   "outputs": [
    {
     "data": {
      "text/plain": [
       "institute_name        0\n",
       "institute_type        0\n",
       "city                  0\n",
       "state                 0\n",
       "city_tier             0\n",
       "total_fee_4yr         0\n",
       "total_fee_5yr         0\n",
       "hostel_available      0\n",
       "campus_area           0\n",
       "infra_rating          0\n",
       "campus_status         0\n",
       "offers_5yr_program    0\n",
       "dtype: int64"
      ]
     },
     "execution_count": 173,
     "metadata": {},
     "output_type": "execute_result"
    }
   ],
   "source": [
    "df.isnull().sum()"
   ]
  },
  {
   "cell_type": "code",
   "execution_count": 174,
   "id": "2f9c1a47",
   "metadata": {},
   "outputs": [
    {
     "name": "stdout",
     "output_type": "stream",
     "text": [
      "<class 'pandas.core.frame.DataFrame'>\n",
      "Index: 81 entries, 0 to 82\n",
      "Data columns (total 12 columns):\n",
      " #   Column              Non-Null Count  Dtype   \n",
      "---  ------              --------------  -----   \n",
      " 0   institute_name      81 non-null     object  \n",
      " 1   institute_type      81 non-null     category\n",
      " 2   city                81 non-null     object  \n",
      " 3   state               81 non-null     object  \n",
      " 4   city_tier           81 non-null     int64   \n",
      " 5   total_fee_4yr       81 non-null     int64   \n",
      " 6   total_fee_5yr       81 non-null     float64 \n",
      " 7   hostel_available    81 non-null     bool    \n",
      " 8   campus_area         81 non-null     float64 \n",
      " 9   infra_rating        81 non-null     float64 \n",
      " 10  campus_status       81 non-null     category\n",
      " 11  offers_5yr_program  81 non-null     bool    \n",
      "dtypes: bool(2), category(2), float64(3), int64(2), object(3)\n",
      "memory usage: 6.3+ KB\n"
     ]
    }
   ],
   "source": [
    "df.info()"
   ]
  },
  {
   "cell_type": "code",
   "execution_count": 176,
   "id": "f5c37ea7",
   "metadata": {},
   "outputs": [],
   "source": [
    "df.to_csv('/Users/anuragchaubey/smart-college-recommender/data/cleaned/metadata_cleaned.csv', index=False)\n"
   ]
  }
 ],
 "metadata": {
  "kernelspec": {
   "display_name": "Python 3",
   "language": "python",
   "name": "python3"
  },
  "language_info": {
   "codemirror_mode": {
    "name": "ipython",
    "version": 3
   },
   "file_extension": ".py",
   "mimetype": "text/x-python",
   "name": "python",
   "nbconvert_exporter": "python",
   "pygments_lexer": "ipython3",
   "version": "3.12.5"
  }
 },
 "nbformat": 4,
 "nbformat_minor": 5
}
